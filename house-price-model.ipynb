{
 "cells": [
  {
   "cell_type": "markdown",
   "metadata": {},
   "source": [
    "##### Importing all the libraries"
   ]
  },
  {
   "cell_type": "code",
   "execution_count": 548,
   "metadata": {},
   "outputs": [],
   "source": [
    "from pyspark.sql import SparkSession\n",
    "from pyspark.sql.functions import monotonically_increasing_id, col\n",
    "from pyspark.ml.feature import Imputer\n",
    "from pyspark.sql.types import FloatType\n",
    "from pyspark.ml.feature import OneHotEncoder\n",
    "from pyspark.ml.feature import StringIndexer\n",
    "from pyspark.ml.feature import VectorAssembler\n",
    "from pyspark.ml.feature import StandardScaler\n",
    "from pyspark.ml.regression import LinearRegression\n",
    "from pyspark.sql.functions import mean\n",
    "from pyspark.mllib.evaluation import RegressionMetrics\n",
    "from pyspark.mllib.util import Saveable\n",
    "import os\n",
    "import pandas as pd\n",
    "import numpy as np\n",
    "from models.helper import Helper"
   ]
  },
  {
   "cell_type": "code",
   "execution_count": 549,
   "metadata": {},
   "outputs": [],
   "source": [
    "helper = Helper()"
   ]
  },
  {
   "cell_type": "markdown",
   "metadata": {},
   "source": [
    "##### Initiating the spark local session"
   ]
  },
  {
   "cell_type": "code",
   "execution_count": 550,
   "metadata": {},
   "outputs": [
    {
     "data": {
      "text/html": [
       "\n",
       "            <div>\n",
       "                <p><b>SparkSession - in-memory</b></p>\n",
       "                \n",
       "        <div>\n",
       "            <p><b>SparkContext</b></p>\n",
       "\n",
       "            <p><a href=\"http://172.28.191.26:4050\">Spark UI</a></p>\n",
       "\n",
       "            <dl>\n",
       "              <dt>Version</dt>\n",
       "                <dd><code>v3.5.0</code></dd>\n",
       "              <dt>Master</dt>\n",
       "                <dd><code>local</code></dd>\n",
       "              <dt>AppName</dt>\n",
       "                <dd><code>Colab</code></dd>\n",
       "            </dl>\n",
       "        </div>\n",
       "        \n",
       "            </div>\n",
       "        "
      ],
      "text/plain": [
       "<pyspark.sql.session.SparkSession at 0x7f60dbce3400>"
      ]
     },
     "execution_count": 550,
     "metadata": {},
     "output_type": "execute_result"
    }
   ],
   "source": [
    "spark = SparkSession.builder\\\n",
    "        .master(\"local\")\\\n",
    "        .appName(\"HousePricePredict\")\\\n",
    "        .config('spark.ui.port', '4050')\\\n",
    "        .getOrCreate()\n",
    "\n",
    "spark"
   ]
  },
  {
   "cell_type": "markdown",
   "metadata": {},
   "source": [
    "##### Reading and analyzing the dataset"
   ]
  },
  {
   "cell_type": "code",
   "execution_count": 551,
   "metadata": {},
   "outputs": [
    {
     "name": "stdout",
     "output_type": "stream",
     "text": [
      "root\n",
      " |-- zpid: string (nullable = true)\n",
      " |-- city: string (nullable = true)\n",
      " |-- streetAddress: string (nullable = true)\n",
      " |-- zipcode: string (nullable = true)\n",
      " |-- description: string (nullable = true)\n",
      " |-- latitude: string (nullable = true)\n",
      " |-- longitude: string (nullable = true)\n",
      " |-- propertyTaxRate: string (nullable = true)\n",
      " |-- garageSpaces: string (nullable = true)\n",
      " |-- hasAssociation: string (nullable = true)\n",
      " |-- hasCooling: string (nullable = true)\n",
      " |-- hasGarage: string (nullable = true)\n",
      " |-- hasHeating: string (nullable = true)\n",
      " |-- hasSpa: string (nullable = true)\n",
      " |-- hasView: string (nullable = true)\n",
      " |-- homeType: string (nullable = true)\n",
      " |-- parkingSpaces: string (nullable = true)\n",
      " |-- yearBuilt: string (nullable = true)\n",
      " |-- latestPrice: string (nullable = true)\n",
      " |-- numPriceChanges: string (nullable = true)\n",
      " |-- latest_saledate: string (nullable = true)\n",
      " |-- latest_salemonth: string (nullable = true)\n",
      " |-- latest_saleyear: string (nullable = true)\n",
      " |-- latestPriceSource: string (nullable = true)\n",
      " |-- numOfPhotos: string (nullable = true)\n",
      " |-- numOfAccessibilityFeatures: string (nullable = true)\n",
      " |-- numOfAppliances: string (nullable = true)\n",
      " |-- numOfParkingFeatures: string (nullable = true)\n",
      " |-- numOfPatioAndPorchFeatures: string (nullable = true)\n",
      " |-- numOfSecurityFeatures: string (nullable = true)\n",
      " |-- numOfWaterfrontFeatures: string (nullable = true)\n",
      " |-- numOfWindowFeatures: string (nullable = true)\n",
      " |-- numOfCommunityFeatures: string (nullable = true)\n",
      " |-- lotSizeSqFt: string (nullable = true)\n",
      " |-- livingAreaSqFt: string (nullable = true)\n",
      " |-- numOfPrimarySchools: string (nullable = true)\n",
      " |-- numOfElementarySchools: string (nullable = true)\n",
      " |-- numOfMiddleSchools: string (nullable = true)\n",
      " |-- numOfHighSchools: string (nullable = true)\n",
      " |-- avgSchoolDistance: string (nullable = true)\n",
      " |-- avgSchoolRating: string (nullable = true)\n",
      " |-- avgSchoolSize: string (nullable = true)\n",
      " |-- MedianStudentsPerTeacher: string (nullable = true)\n",
      " |-- numOfBathrooms: string (nullable = true)\n",
      " |-- numOfBedrooms: string (nullable = true)\n",
      " |-- numOfStories: string (nullable = true)\n",
      " |-- homeImage: string (nullable = true)\n",
      "\n"
     ]
    }
   ],
   "source": [
    "df = spark.read.format(\"csv\").load(\"./data/austinHousingData.csv\", header=True, inferSchema=True)\n",
    "\n",
    "df.printSchema()"
   ]
  },
  {
   "cell_type": "code",
   "execution_count": 552,
   "metadata": {},
   "outputs": [
    {
     "name": "stdout",
     "output_type": "stream",
     "text": [
      "+--------------------+--------------------+--------------------+-----------------+--------------------+------------------+------------------+---------------+------------+--------------+----------+---------+----------+-------------+-------+-------------+-------------+---------+-----------+---------------+---------------+--------------------+---------------+-----------------+-----------+--------------------------+---------------+--------------------+--------------------------+---------------------+-----------------------+-------------------+----------------------+-----------+--------------+-------------------+----------------------+------------------+------------------+-----------------+------------------+-------------+------------------------+--------------+--------------------+------------+--------------------+\n",
      "|                zpid|                city|       streetAddress|          zipcode|         description|          latitude|         longitude|propertyTaxRate|garageSpaces|hasAssociation|hasCooling|hasGarage|hasHeating|       hasSpa|hasView|     homeType|parkingSpaces|yearBuilt|latestPrice|numPriceChanges|latest_saledate|    latest_salemonth|latest_saleyear|latestPriceSource|numOfPhotos|numOfAccessibilityFeatures|numOfAppliances|numOfParkingFeatures|numOfPatioAndPorchFeatures|numOfSecurityFeatures|numOfWaterfrontFeatures|numOfWindowFeatures|numOfCommunityFeatures|lotSizeSqFt|livingAreaSqFt|numOfPrimarySchools|numOfElementarySchools|numOfMiddleSchools|  numOfHighSchools|avgSchoolDistance|   avgSchoolRating|avgSchoolSize|MedianStudentsPerTeacher|numOfBathrooms|       numOfBedrooms|numOfStories|           homeImage|\n",
      "+--------------------+--------------------+--------------------+-----------------+--------------------+------------------+------------------+---------------+------------+--------------+----------+---------+----------+-------------+-------+-------------+-------------+---------+-----------+---------------+---------------+--------------------+---------------+-----------------+-----------+--------------------------+---------------+--------------------+--------------------------+---------------------+-----------------------+-------------------+----------------------+-----------+--------------+-------------------+----------------------+------------------+------------------+-----------------+------------------+-------------+------------------------+--------------+--------------------+------------+--------------------+\n",
      "|           111373431|        pflugerville|14424 Lake Victor Dr|            78660|14424 Lake Victor...|              NULL|              NULL|           NULL|        NULL|          NULL|      NULL|     NULL|      NULL|         NULL|   NULL|         NULL|         NULL|     NULL|       NULL|           NULL|           NULL|                NULL|           NULL|             NULL|       NULL|                      NULL|           NULL|                NULL|                      NULL|                 NULL|                   NULL|               NULL|                  NULL|       NULL|          NULL|               NULL|                  NULL|              NULL|              NULL|             NULL|              NULL|         NULL|                    NULL|          NULL|                NULL|        NULL|                NULL|\n",
      "|The Zestimate for...|417. The Rent Zes...|           195/mo. \"|30.43063163757324|  -97.66307830810548|              1.98|                 2|           True|        True|          True|      True|    False|     False|Single Family|      2|         2012|     305000.0|        5| 2019-09-02|              9|           2019|Coldwell Banker U...|             39|                0|          5|                         2|              1|                   3|                         0|                    1|                      0|             6011.0|                2601.0|          1|             0|                  1|                     1|1.2666666666666668|2.6666666666666665|             1063|                14|          3.0|                       4|             2|111373431_ffce268...|        NULL|                NULL|\n",
      "|           120900430|        pflugerville|  1104 Strickling Dr|            78660|Absolutely GORGEO...| 30.43267250061035|-97.66169738769531|           1.98|           2|          True|      True|     True|      True|        False|  False|Single Family|            2|     2013|   295000.0|              1|     2020-10-13|                  10|           2020|   Agent Provided|         29|                         0|              1|                   2|                         0|                    0|                      0|                  0|                     0|     6185.0|        1768.0|                  1|                     0|                 1|                 1|              1.4|2.6666666666666665|         1063|                      14|           2.0|                   4|           1|120900430_8255c12...|\n",
      "|          2084491383|        pflugerville| 1408 Fort Dessau Rd|            78660|Under constructio...|30.409748077392567| -97.6397705078125|           1.98|           0|          True|      True|    False|      True|        False|  False|Single Family|            0|     2018|   256125.0|              1|     2019-07-31|                   7|           2019|   Agent Provided|          2|                         0|              4|                   1|                         0|                    1|                      0|                  0|                     0|     7840.0|        1478.0|                  0|                     2|                 1|                 1|              1.2|               3.0|         1108|                      14|           2.0|                   3|           1|2084491383_a2ad64...|\n",
      "|           120901374|        pflugerville|  1025 Strickling Dr|            78660|Absolutely darlin...|30.432111740112305|-97.66165924072266|           1.98|           2|          True|      True|     True|      True|        False|  False|Single Family|            2|     2013|   240000.0|              4|     2018-08-08|                   8|           2018|   Agent Provided|          9|                         0|              0|                   2|                         0|                    0|                      0|                  0|                     0|     6098.0|        1678.0|                  1|                     0|                 1|                 1|              1.4|2.6666666666666665|         1063|                      14|           2.0|                   3|           1|120901374_b469367...|\n",
      "+--------------------+--------------------+--------------------+-----------------+--------------------+------------------+------------------+---------------+------------+--------------+----------+---------+----------+-------------+-------+-------------+-------------+---------+-----------+---------------+---------------+--------------------+---------------+-----------------+-----------+--------------------------+---------------+--------------------+--------------------------+---------------------+-----------------------+-------------------+----------------------+-----------+--------------+-------------------+----------------------+------------------+------------------+-----------------+------------------+-------------+------------------------+--------------+--------------------+------------+--------------------+\n",
      "only showing top 5 rows\n",
      "\n"
     ]
    }
   ],
   "source": [
    "df.show(5)"
   ]
  },
  {
   "cell_type": "code",
   "execution_count": 553,
   "metadata": {},
   "outputs": [
    {
     "data": {
      "text/plain": [
       "47"
      ]
     },
     "execution_count": 553,
     "metadata": {},
     "output_type": "execute_result"
    }
   ],
   "source": [
    "len(df.columns)"
   ]
  },
  {
   "cell_type": "code",
   "execution_count": 554,
   "metadata": {},
   "outputs": [
    {
     "name": "stdout",
     "output_type": "stream",
     "text": [
      "+---+--------------------+--------------------+--------------------+-----------------+--------------------+-----------------+------------------+---------------+------------+--------------+----------+---------+----------+-------------+-------+-------------+-------------+---------+-----------+---------------+---------------+--------------------+---------------+-----------------+-----------+--------------------------+---------------+--------------------+--------------------------+---------------------+-----------------------+-------------------+----------------------+-----------+--------------+-------------------+----------------------+------------------+------------------+-----------------+------------------+-------------+------------------------+--------------+--------------------+------------+--------------------+\n",
      "| id|                zpid|                city|       streetAddress|          zipcode|         description|         latitude|         longitude|propertyTaxRate|garageSpaces|hasAssociation|hasCooling|hasGarage|hasHeating|       hasSpa|hasView|     homeType|parkingSpaces|yearBuilt|latestPrice|numPriceChanges|latest_saledate|    latest_salemonth|latest_saleyear|latestPriceSource|numOfPhotos|numOfAccessibilityFeatures|numOfAppliances|numOfParkingFeatures|numOfPatioAndPorchFeatures|numOfSecurityFeatures|numOfWaterfrontFeatures|numOfWindowFeatures|numOfCommunityFeatures|lotSizeSqFt|livingAreaSqFt|numOfPrimarySchools|numOfElementarySchools|numOfMiddleSchools|  numOfHighSchools|avgSchoolDistance|   avgSchoolRating|avgSchoolSize|MedianStudentsPerTeacher|numOfBathrooms|       numOfBedrooms|numOfStories|           homeImage|\n",
      "+---+--------------------+--------------------+--------------------+-----------------+--------------------+-----------------+------------------+---------------+------------+--------------+----------+---------+----------+-------------+-------+-------------+-------------+---------+-----------+---------------+---------------+--------------------+---------------+-----------------+-----------+--------------------------+---------------+--------------------+--------------------------+---------------------+-----------------------+-------------------+----------------------+-----------+--------------+-------------------+----------------------+------------------+------------------+-----------------+------------------+-------------+------------------------+--------------+--------------------+------------+--------------------+\n",
      "|  0|           111373431|        pflugerville|14424 Lake Victor Dr|            78660|14424 Lake Victor...|             NULL|              NULL|           NULL|        NULL|          NULL|      NULL|     NULL|      NULL|         NULL|   NULL|         NULL|         NULL|     NULL|       NULL|           NULL|           NULL|                NULL|           NULL|             NULL|       NULL|                      NULL|           NULL|                NULL|                      NULL|                 NULL|                   NULL|               NULL|                  NULL|       NULL|          NULL|               NULL|                  NULL|              NULL|              NULL|             NULL|              NULL|         NULL|                    NULL|          NULL|                NULL|        NULL|                NULL|\n",
      "|  1|The Zestimate for...|417. The Rent Zes...|           195/mo. \"|30.43063163757324|  -97.66307830810548|             1.98|                 2|           True|        True|          True|      True|    False|     False|Single Family|      2|         2012|     305000.0|        5| 2019-09-02|              9|           2019|Coldwell Banker U...|             39|                0|          5|                         2|              1|                   3|                         0|                    1|                      0|             6011.0|                2601.0|          1|             0|                  1|                     1|1.2666666666666668|2.6666666666666665|             1063|                14|          3.0|                       4|             2|111373431_ffce268...|        NULL|                NULL|\n",
      "|  2|           120900430|        pflugerville|  1104 Strickling Dr|            78660|Absolutely GORGEO...|30.43267250061035|-97.66169738769531|           1.98|           2|          True|      True|     True|      True|        False|  False|Single Family|            2|     2013|   295000.0|              1|     2020-10-13|                  10|           2020|   Agent Provided|         29|                         0|              1|                   2|                         0|                    0|                      0|                  0|                     0|     6185.0|        1768.0|                  1|                     0|                 1|                 1|              1.4|2.6666666666666665|         1063|                      14|           2.0|                   4|           1|120900430_8255c12...|\n",
      "+---+--------------------+--------------------+--------------------+-----------------+--------------------+-----------------+------------------+---------------+------------+--------------+----------+---------+----------+-------------+-------+-------------+-------------+---------+-----------+---------------+---------------+--------------------+---------------+-----------------+-----------+--------------------------+---------------+--------------------+--------------------------+---------------------+-----------------------+-------------------+----------------------+-----------+--------------+-------------------+----------------------+------------------+------------------+-----------------+------------------+-------------+------------------------+--------------+--------------------+------------+--------------------+\n",
      "only showing top 3 rows\n",
      "\n"
     ]
    }
   ],
   "source": [
    "df = df.withColumn('id', monotonically_increasing_id())\n",
    "\n",
    "df = df[['id'] + df.columns[:-1]]\n",
    "\n",
    "df.show(3)"
   ]
  },
  {
   "cell_type": "code",
   "execution_count": 555,
   "metadata": {},
   "outputs": [
    {
     "data": {
      "text/plain": [
       "21534"
      ]
     },
     "execution_count": 555,
     "metadata": {},
     "output_type": "execute_result"
    }
   ],
   "source": [
    "df.count()"
   ]
  },
  {
   "cell_type": "code",
   "execution_count": 556,
   "metadata": {},
   "outputs": [],
   "source": [
    "df = df.dropna()"
   ]
  },
  {
   "cell_type": "code",
   "execution_count": 557,
   "metadata": {},
   "outputs": [
    {
     "data": {
      "text/plain": [
       "11197"
      ]
     },
     "execution_count": 557,
     "metadata": {},
     "output_type": "execute_result"
    }
   ],
   "source": [
    "df.count()"
   ]
  },
  {
   "cell_type": "code",
   "execution_count": 558,
   "metadata": {},
   "outputs": [
    {
     "name": "stdout",
     "output_type": "stream",
     "text": [
      "+---+----------+------------+-------------------+-------+--------------------+------------------+------------------+---------------+------------+--------------+----------+---------+----------+------+-------+-------------+-------------+---------+-----------+---------------+---------------+----------------+---------------+-----------------+-----------+--------------------------+---------------+--------------------+--------------------------+---------------------+-----------------------+-------------------+----------------------+-----------+--------------+-------------------+----------------------+------------------+----------------+-----------------+------------------+-------------+------------------------+--------------+-------------+------------+--------------------+\n",
      "| id|      zpid|        city|      streetAddress|zipcode|         description|          latitude|         longitude|propertyTaxRate|garageSpaces|hasAssociation|hasCooling|hasGarage|hasHeating|hasSpa|hasView|     homeType|parkingSpaces|yearBuilt|latestPrice|numPriceChanges|latest_saledate|latest_salemonth|latest_saleyear|latestPriceSource|numOfPhotos|numOfAccessibilityFeatures|numOfAppliances|numOfParkingFeatures|numOfPatioAndPorchFeatures|numOfSecurityFeatures|numOfWaterfrontFeatures|numOfWindowFeatures|numOfCommunityFeatures|lotSizeSqFt|livingAreaSqFt|numOfPrimarySchools|numOfElementarySchools|numOfMiddleSchools|numOfHighSchools|avgSchoolDistance|   avgSchoolRating|avgSchoolSize|MedianStudentsPerTeacher|numOfBathrooms|numOfBedrooms|numOfStories|           homeImage|\n",
      "+---+----------+------------+-------------------+-------+--------------------+------------------+------------------+---------------+------------+--------------+----------+---------+----------+------+-------+-------------+-------------+---------+-----------+---------------+---------------+----------------+---------------+-----------------+-----------+--------------------------+---------------+--------------------+--------------------------+---------------------+-----------------------+-------------------+----------------------+-----------+--------------+-------------------+----------------------+------------------+----------------+-----------------+------------------+-------------+------------------------+--------------+-------------+------------+--------------------+\n",
      "|  2| 120900430|pflugerville| 1104 Strickling Dr|  78660|Absolutely GORGEO...| 30.43267250061035|-97.66169738769531|           1.98|           2|          True|      True|     True|      True| False|  False|Single Family|            2|     2013|   295000.0|              1|     2020-10-13|              10|           2020|   Agent Provided|         29|                         0|              1|                   2|                         0|                    0|                      0|                  0|                     0|     6185.0|        1768.0|                  1|                     0|                 1|               1|              1.4|2.6666666666666665|         1063|                      14|           2.0|            4|           1|120900430_8255c12...|\n",
      "|  3|2084491383|pflugerville|1408 Fort Dessau Rd|  78660|Under constructio...|30.409748077392567| -97.6397705078125|           1.98|           0|          True|      True|    False|      True| False|  False|Single Family|            0|     2018|   256125.0|              1|     2019-07-31|               7|           2019|   Agent Provided|          2|                         0|              4|                   1|                         0|                    1|                      0|                  0|                     0|     7840.0|        1478.0|                  0|                     2|                 1|               1|              1.2|               3.0|         1108|                      14|           2.0|            3|           1|2084491383_a2ad64...|\n",
      "|  4| 120901374|pflugerville| 1025 Strickling Dr|  78660|Absolutely darlin...|30.432111740112305|-97.66165924072266|           1.98|           2|          True|      True|     True|      True| False|  False|Single Family|            2|     2013|   240000.0|              4|     2018-08-08|               8|           2018|   Agent Provided|          9|                         0|              0|                   2|                         0|                    0|                      0|                  0|                     0|     6098.0|        1678.0|                  1|                     0|                 1|               1|              1.4|2.6666666666666665|         1063|                      14|           2.0|            3|           1|120901374_b469367...|\n",
      "+---+----------+------------+-------------------+-------+--------------------+------------------+------------------+---------------+------------+--------------+----------+---------+----------+------+-------+-------------+-------------+---------+-----------+---------------+---------------+----------------+---------------+-----------------+-----------+--------------------------+---------------+--------------------+--------------------------+---------------------+-----------------------+-------------------+----------------------+-----------+--------------+-------------------+----------------------+------------------+----------------+-----------------+------------------+-------------+------------------------+--------------+-------------+------------+--------------------+\n",
      "only showing top 3 rows\n",
      "\n"
     ]
    }
   ],
   "source": [
    "df.show(3)"
   ]
  },
  {
   "cell_type": "code",
   "execution_count": 559,
   "metadata": {},
   "outputs": [],
   "source": [
    "numerical_features_list = helper.numerical_features_list"
   ]
  },
  {
   "cell_type": "code",
   "execution_count": 560,
   "metadata": {},
   "outputs": [
    {
     "data": {
      "text/plain": [
       "25"
      ]
     },
     "execution_count": 560,
     "metadata": {},
     "output_type": "execute_result"
    }
   ],
   "source": [
    "len(numerical_features_list)"
   ]
  },
  {
   "cell_type": "code",
   "execution_count": 561,
   "metadata": {},
   "outputs": [],
   "source": [
    "categorical_features_list = helper.categorical_features_list"
   ]
  },
  {
   "cell_type": "code",
   "execution_count": 562,
   "metadata": {},
   "outputs": [],
   "source": [
    "#categorical_features_list = []"
   ]
  },
  {
   "cell_type": "code",
   "execution_count": 563,
   "metadata": {},
   "outputs": [
    {
     "data": {
      "text/plain": [
       "6"
      ]
     },
     "execution_count": 563,
     "metadata": {},
     "output_type": "execute_result"
    }
   ],
   "source": [
    "len(categorical_features_list)"
   ]
  },
  {
   "cell_type": "code",
   "execution_count": 564,
   "metadata": {},
   "outputs": [],
   "source": [
    "df = df.select(numerical_features_list + categorical_features_list + ['latestPrice'])"
   ]
  },
  {
   "cell_type": "code",
   "execution_count": 565,
   "metadata": {},
   "outputs": [],
   "source": [
    "categorical_1hotindexfeatures_list = [feat+'_index' for feat in categorical_features_list]"
   ]
  },
  {
   "cell_type": "code",
   "execution_count": 566,
   "metadata": {},
   "outputs": [],
   "source": [
    "categorical_1hotendcodingfeatures_list = [feat+'_1hot' for feat in categorical_features_list]"
   ]
  },
  {
   "cell_type": "code",
   "execution_count": 567,
   "metadata": {},
   "outputs": [
    {
     "data": {
      "text/plain": [
       "['propertyTaxRate',\n",
       " 'garageSpaces',\n",
       " 'parkingSpaces',\n",
       " 'numOfPhotos',\n",
       " 'numOfAccessibilityFeatures',\n",
       " 'numOfAppliances',\n",
       " 'numOfParkingFeatures',\n",
       " 'numOfPatioAndPorchFeatures',\n",
       " 'numOfSecurityFeatures',\n",
       " 'numOfWaterfrontFeatures',\n",
       " 'numOfWindowFeatures',\n",
       " 'numOfCommunityFeatures',\n",
       " 'lotSizeSqFt',\n",
       " 'livingAreaSqFt',\n",
       " 'numOfPrimarySchools',\n",
       " 'numOfElementarySchools',\n",
       " 'numOfMiddleSchools',\n",
       " 'numOfHighSchools',\n",
       " 'avgSchoolDistance',\n",
       " 'avgSchoolRating',\n",
       " 'avgSchoolSize',\n",
       " 'MedianStudentsPerTeacher',\n",
       " 'numOfBathrooms',\n",
       " 'numOfBedrooms',\n",
       " 'numOfStories',\n",
       " 'hasAssociation',\n",
       " 'hasCooling',\n",
       " 'hasGarage',\n",
       " 'hasHeating',\n",
       " 'hasSpa',\n",
       " 'hasView',\n",
       " 'latestPrice']"
      ]
     },
     "execution_count": 567,
     "metadata": {},
     "output_type": "execute_result"
    }
   ],
   "source": [
    "df.columns"
   ]
  },
  {
   "cell_type": "markdown",
   "metadata": {},
   "source": [
    "##### Converting numerical columns to float type"
   ]
  },
  {
   "cell_type": "code",
   "execution_count": 568,
   "metadata": {},
   "outputs": [],
   "source": [
    "for colname in numerical_features_list+['latestPrice']:\n",
    "    df = df.withColumn(colname, col(colname).cast(FloatType()))"
   ]
  },
  {
   "cell_type": "code",
   "execution_count": 569,
   "metadata": {},
   "outputs": [],
   "source": [
    "df = df.dropna()"
   ]
  },
  {
   "cell_type": "markdown",
   "metadata": {},
   "source": [
    "##### Splitting data into train and test"
   ]
  },
  {
   "cell_type": "code",
   "execution_count": 570,
   "metadata": {},
   "outputs": [],
   "source": [
    "train, test = df.randomSplit([0.7, 0.3])"
   ]
  },
  {
   "cell_type": "code",
   "execution_count": 571,
   "metadata": {},
   "outputs": [
    {
     "name": "stdout",
     "output_type": "stream",
     "text": [
      "7450\n",
      "3218\n"
     ]
    }
   ],
   "source": [
    "print(train.count())\n",
    "print(test.count())"
   ]
  },
  {
   "cell_type": "markdown",
   "metadata": {},
   "source": [
    "##### Imputing the numerical data"
   ]
  },
  {
   "cell_type": "code",
   "execution_count": 572,
   "metadata": {},
   "outputs": [
    {
     "name": "stdout",
     "output_type": "stream",
     "text": [
      "+---------------+------------+-------------+-----------+--------------------------+---------------+--------------------+--------------------------+---------------------+-----------------------+-------------------+----------------------+-----------+--------------+-------------------+----------------------+------------------+----------------+-----------------+---------------+-------------+------------------------+--------------+-------------+------------+--------------+----------+---------+----------+------+-------+-----------+\n",
      "|propertyTaxRate|garageSpaces|parkingSpaces|numOfPhotos|numOfAccessibilityFeatures|numOfAppliances|numOfParkingFeatures|numOfPatioAndPorchFeatures|numOfSecurityFeatures|numOfWaterfrontFeatures|numOfWindowFeatures|numOfCommunityFeatures|lotSizeSqFt|livingAreaSqFt|numOfPrimarySchools|numOfElementarySchools|numOfMiddleSchools|numOfHighSchools|avgSchoolDistance|avgSchoolRating|avgSchoolSize|MedianStudentsPerTeacher|numOfBathrooms|numOfBedrooms|numOfStories|hasAssociation|hasCooling|hasGarage|hasHeating|hasSpa|hasView|latestPrice|\n",
      "+---------------+------------+-------------+-----------+--------------------------+---------------+--------------------+--------------------------+---------------------+-----------------------+-------------------+----------------------+-----------+--------------+-------------------+----------------------+------------------+----------------+-----------------+---------------+-------------+------------------------+--------------+-------------+------------+--------------+----------+---------+----------+------+-------+-----------+\n",
      "|           1.98|         0.0|          0.0|        1.0|                       0.0|            0.0|                 0.0|                       0.0|                  0.0|                    0.0|                0.0|                   0.0|     3049.0|        1300.0|                1.0|                   0.0|               1.0|             1.0|        1.4333333|      6.6666665|       1057.0|                    15.0|           2.0|          3.0|         1.0|         False|      True|    False|      True| False|  False|   550000.0|\n",
      "|           1.98|         0.0|          0.0|        1.0|                       0.0|            0.0|                 0.0|                       0.0|                  0.0|                    0.0|                0.0|                   0.0|     5140.0|        1238.0|                1.0|                   0.0|               1.0|             1.0|        1.2333333|            4.0|        413.0|                    11.0|           1.0|          2.0|         1.0|         False|     False|    False|     False| False|  False|   274800.0|\n",
      "|           1.98|         0.0|          0.0|        1.0|                       0.0|            0.0|                 0.0|                       0.0|                  0.0|                    0.0|                0.0|                   0.0|     5227.0|        2096.0|                1.0|                   0.0|               1.0|             1.0|        0.8666667|      3.3333333|        926.0|                    13.0|           3.0|          4.0|         1.0|         False|     False|    False|     False| False|  False|   358000.0|\n",
      "+---------------+------------+-------------+-----------+--------------------------+---------------+--------------------+--------------------------+---------------------+-----------------------+-------------------+----------------------+-----------+--------------+-------------------+----------------------+------------------+----------------+-----------------+---------------+-------------+------------------------+--------------+-------------+------------+--------------+----------+---------+----------+------+-------+-----------+\n",
      "only showing top 3 rows\n",
      "\n"
     ]
    }
   ],
   "source": [
    "imputer = Imputer(inputCols=numerical_features_list,\n",
    "                  outputCols=numerical_features_list)\n",
    "imputer = imputer.fit(train)\n",
    "\n",
    "train = imputer.transform(train)\n",
    "test = imputer.transform(test)\n",
    "\n",
    "train.show(3)"
   ]
  },
  {
   "cell_type": "markdown",
   "metadata": {},
   "source": [
    "##### Creating the feature vector"
   ]
  },
  {
   "cell_type": "code",
   "execution_count": 573,
   "metadata": {},
   "outputs": [
    {
     "name": "stdout",
     "output_type": "stream",
     "text": [
      "+---------------+------------+-------------+-----------+--------------------------+---------------+--------------------+--------------------------+---------------------+-----------------------+-------------------+----------------------+-----------+--------------+-------------------+----------------------+------------------+----------------+-----------------+---------------+-------------+------------------------+--------------+-------------+------------+--------------+----------+---------+----------+------+-------+-----------+------------------------+\n",
      "|propertyTaxRate|garageSpaces|parkingSpaces|numOfPhotos|numOfAccessibilityFeatures|numOfAppliances|numOfParkingFeatures|numOfPatioAndPorchFeatures|numOfSecurityFeatures|numOfWaterfrontFeatures|numOfWindowFeatures|numOfCommunityFeatures|lotSizeSqFt|livingAreaSqFt|numOfPrimarySchools|numOfElementarySchools|numOfMiddleSchools|numOfHighSchools|avgSchoolDistance|avgSchoolRating|avgSchoolSize|MedianStudentsPerTeacher|numOfBathrooms|numOfBedrooms|numOfStories|hasAssociation|hasCooling|hasGarage|hasHeating|hasSpa|hasView|latestPrice|numerical_feature_vector|\n",
      "+---------------+------------+-------------+-----------+--------------------------+---------------+--------------------+--------------------------+---------------------+-----------------------+-------------------+----------------------+-----------+--------------+-------------------+----------------------+------------------+----------------+-----------------+---------------+-------------+------------------------+--------------+-------------+------------+--------------+----------+---------+----------+------+-------+-----------+------------------------+\n",
      "|           1.98|         0.0|          0.0|        1.0|                       0.0|            0.0|                 0.0|                       0.0|                  0.0|                    0.0|                0.0|                   0.0|     3049.0|        1300.0|                1.0|                   0.0|               1.0|             1.0|        1.4333333|      6.6666665|       1057.0|                    15.0|           2.0|          3.0|         1.0|         False|      True|    False|      True| False|  False|   550000.0|    (25,[0,3,12,13,14...|\n",
      "|           1.98|         0.0|          0.0|        1.0|                       0.0|            0.0|                 0.0|                       0.0|                  0.0|                    0.0|                0.0|                   0.0|     5140.0|        1238.0|                1.0|                   0.0|               1.0|             1.0|        1.2333333|            4.0|        413.0|                    11.0|           1.0|          2.0|         1.0|         False|     False|    False|     False| False|  False|   274800.0|    (25,[0,3,12,13,14...|\n",
      "+---------------+------------+-------------+-----------+--------------------------+---------------+--------------------+--------------------------+---------------------+-----------------------+-------------------+----------------------+-----------+--------------+-------------------+----------------------+------------------+----------------+-----------------+---------------+-------------+------------------------+--------------+-------------+------------+--------------+----------+---------+----------+------+-------+-----------+------------------------+\n",
      "only showing top 2 rows\n",
      "\n"
     ]
    }
   ],
   "source": [
    "numerical_vector_assembler = VectorAssembler(inputCols=numerical_features_list,\n",
    "                                             outputCol='numerical_feature_vector')\n",
    "\n",
    "train = numerical_vector_assembler.transform(train)\n",
    "test = numerical_vector_assembler.transform(test)\n",
    "train.show(2)"
   ]
  },
  {
   "cell_type": "code",
   "execution_count": 574,
   "metadata": {},
   "outputs": [
    {
     "data": {
      "text/plain": [
       "[Row(numerical_feature_vector=SparseVector(25, {0: 1.98, 3: 1.0, 12: 3049.0, 13: 1300.0, 14: 1.0, 16: 1.0, 17: 1.0, 18: 1.4333, 19: 6.6667, 20: 1057.0, 21: 15.0, 22: 2.0, 23: 3.0, 24: 1.0})),\n",
       " Row(numerical_feature_vector=SparseVector(25, {0: 1.98, 3: 1.0, 12: 5140.0, 13: 1238.0, 14: 1.0, 16: 1.0, 17: 1.0, 18: 1.2333, 19: 4.0, 20: 413.0, 21: 11.0, 22: 1.0, 23: 2.0, 24: 1.0}))]"
      ]
     },
     "execution_count": 574,
     "metadata": {},
     "output_type": "execute_result"
    }
   ],
   "source": [
    "train.select('numerical_feature_vector').take(2)"
   ]
  },
  {
   "cell_type": "markdown",
   "metadata": {},
   "source": [
    "##### standardizing the numerical feature values"
   ]
  },
  {
   "cell_type": "code",
   "execution_count": 575,
   "metadata": {},
   "outputs": [
    {
     "name": "stdout",
     "output_type": "stream",
     "text": [
      "+---------------+------------+-------------+-----------+--------------------------+---------------+--------------------+--------------------------+---------------------+-----------------------+-------------------+----------------------+-----------+--------------+-------------------+----------------------+------------------+----------------+-----------------+---------------+-------------+------------------------+--------------+-------------+------------+--------------+----------+---------+----------+------+-------+-----------+------------------------+-------------------------------+\n",
      "|propertyTaxRate|garageSpaces|parkingSpaces|numOfPhotos|numOfAccessibilityFeatures|numOfAppliances|numOfParkingFeatures|numOfPatioAndPorchFeatures|numOfSecurityFeatures|numOfWaterfrontFeatures|numOfWindowFeatures|numOfCommunityFeatures|lotSizeSqFt|livingAreaSqFt|numOfPrimarySchools|numOfElementarySchools|numOfMiddleSchools|numOfHighSchools|avgSchoolDistance|avgSchoolRating|avgSchoolSize|MedianStudentsPerTeacher|numOfBathrooms|numOfBedrooms|numOfStories|hasAssociation|hasCooling|hasGarage|hasHeating|hasSpa|hasView|latestPrice|numerical_feature_vector|scaled_numerical_feature_vector|\n",
      "+---------------+------------+-------------+-----------+--------------------------+---------------+--------------------+--------------------------+---------------------+-----------------------+-------------------+----------------------+-----------+--------------+-------------------+----------------------+------------------+----------------+-----------------+---------------+-------------+------------------------+--------------+-------------+------------+--------------+----------+---------+----------+------+-------+-----------+------------------------+-------------------------------+\n",
      "|           1.98|         0.0|          0.0|        1.0|                       0.0|            0.0|                 0.0|                       0.0|                  0.0|                    0.0|                0.0|                   0.0|     3049.0|        1300.0|                1.0|                   0.0|               1.0|             1.0|        1.4333333|      6.6666665|       1057.0|                    15.0|           2.0|          3.0|         1.0|         False|      True|    False|      True| False|  False|   550000.0|    (25,[0,3,12,13,14...|           [-0.2591684891066...|\n",
      "|           1.98|         0.0|          0.0|        1.0|                       0.0|            0.0|                 0.0|                       0.0|                  0.0|                    0.0|                0.0|                   0.0|     5140.0|        1238.0|                1.0|                   0.0|               1.0|             1.0|        1.2333333|            4.0|        413.0|                    11.0|           1.0|          2.0|         1.0|         False|     False|    False|     False| False|  False|   274800.0|    (25,[0,3,12,13,14...|           [-0.2591684891066...|\n",
      "|           1.98|         0.0|          0.0|        1.0|                       0.0|            0.0|                 0.0|                       0.0|                  0.0|                    0.0|                0.0|                   0.0|     5227.0|        2096.0|                1.0|                   0.0|               1.0|             1.0|        0.8666667|      3.3333333|        926.0|                    13.0|           3.0|          4.0|         1.0|         False|     False|    False|     False| False|  False|   358000.0|    (25,[0,3,12,13,14...|           [-0.2591684891066...|\n",
      "+---------------+------------+-------------+-----------+--------------------------+---------------+--------------------+--------------------------+---------------------+-----------------------+-------------------+----------------------+-----------+--------------+-------------------+----------------------+------------------+----------------+-----------------+---------------+-------------+------------------------+--------------+-------------+------------+--------------+----------+---------+----------+------+-------+-----------+------------------------+-------------------------------+\n",
      "only showing top 3 rows\n",
      "\n"
     ]
    }
   ],
   "source": [
    "scaler = StandardScaler(inputCol='numerical_feature_vector',\n",
    "                        outputCol='scaled_numerical_feature_vector',\n",
    "                        withStd=True, withMean=True\n",
    "                        )\n",
    "\n",
    "scaler = scaler.fit(train)\n",
    "\n",
    "train = scaler.transform(train)\n",
    "test = scaler.transform(test)\n",
    "\n",
    "train.show(3)"
   ]
  },
  {
   "cell_type": "code",
   "execution_count": 576,
   "metadata": {},
   "outputs": [
    {
     "data": {
      "text/plain": [
       "[Row(scaled_numerical_feature_vector=DenseVector([-0.2592, -0.9422, -0.9368, -1.6534, -0.0696, -1.8757, -2.2352, -0.6819, -0.5658, -0.0492, -0.4184, -0.0968, -0.0122, -0.5545, 0.2502, -0.2066, -0.1352, 0.0692, -0.368, 0.4922, -0.5521, 0.0878, -0.6544, -0.5194, -0.8777])),\n",
       " Row(scaled_numerical_feature_vector=DenseVector([-0.2592, -0.9422, -0.9368, -1.6534, -0.0696, -1.8757, -2.2352, -0.6819, -0.5658, -0.0492, -0.4184, -0.0968, -0.0121, -0.5927, 0.2502, -0.2066, -0.1352, 0.0692, -0.5549, -0.9321, -2.52, -2.1944, -1.6253, -1.7024, -0.8777]))]"
      ]
     },
     "execution_count": 576,
     "metadata": {},
     "output_type": "execute_result"
    }
   ],
   "source": [
    "train.select('scaled_numerical_feature_vector').take(2)"
   ]
  },
  {
   "cell_type": "markdown",
   "metadata": {},
   "source": [
    "##### Converting string values to unique indices"
   ]
  },
  {
   "cell_type": "code",
   "execution_count": 577,
   "metadata": {},
   "outputs": [],
   "source": [
    "indexer = StringIndexer(inputCols=categorical_features_list,\n",
    "                        outputCols=categorical_1hotindexfeatures_list)\n",
    "\n",
    "indexer = indexer.fit(train)\n",
    "\n",
    "train = indexer.transform(train)\n",
    "test = indexer.transform(test)"
   ]
  },
  {
   "cell_type": "code",
   "execution_count": 578,
   "metadata": {},
   "outputs": [
    {
     "name": "stdout",
     "output_type": "stream",
     "text": [
      "+---------------+------------+-------------+-----------+--------------------------+---------------+--------------------+--------------------------+---------------------+-----------------------+-------------------+----------------------+-----------+--------------+-------------------+----------------------+------------------+----------------+-----------------+---------------+-------------+------------------------+--------------+-------------+------------+--------------+----------+---------+----------+------+-------+-----------+------------------------+-------------------------------+--------------------+----------------+---------------+----------------+------------+-------------+\n",
      "|propertyTaxRate|garageSpaces|parkingSpaces|numOfPhotos|numOfAccessibilityFeatures|numOfAppliances|numOfParkingFeatures|numOfPatioAndPorchFeatures|numOfSecurityFeatures|numOfWaterfrontFeatures|numOfWindowFeatures|numOfCommunityFeatures|lotSizeSqFt|livingAreaSqFt|numOfPrimarySchools|numOfElementarySchools|numOfMiddleSchools|numOfHighSchools|avgSchoolDistance|avgSchoolRating|avgSchoolSize|MedianStudentsPerTeacher|numOfBathrooms|numOfBedrooms|numOfStories|hasAssociation|hasCooling|hasGarage|hasHeating|hasSpa|hasView|latestPrice|numerical_feature_vector|scaled_numerical_feature_vector|hasAssociation_index|hasCooling_index|hasGarage_index|hasHeating_index|hasSpa_index|hasView_index|\n",
      "+---------------+------------+-------------+-----------+--------------------------+---------------+--------------------+--------------------------+---------------------+-----------------------+-------------------+----------------------+-----------+--------------+-------------------+----------------------+------------------+----------------+-----------------+---------------+-------------+------------------------+--------------+-------------+------------+--------------+----------+---------+----------+------+-------+-----------+------------------------+-------------------------------+--------------------+----------------+---------------+----------------+------------+-------------+\n",
      "|           1.98|         0.0|          0.0|        1.0|                       0.0|            0.0|                 0.0|                       0.0|                  0.0|                    0.0|                0.0|                   0.0|     3049.0|        1300.0|                1.0|                   0.0|               1.0|             1.0|        1.4333333|      6.6666665|       1057.0|                    15.0|           2.0|          3.0|         1.0|         False|      True|    False|      True| False|  False|   550000.0|    (25,[0,3,12,13,14...|           [-0.2591684891066...|                 1.0|             0.0|            1.0|             0.0|         0.0|          0.0|\n",
      "|           1.98|         0.0|          0.0|        1.0|                       0.0|            0.0|                 0.0|                       0.0|                  0.0|                    0.0|                0.0|                   0.0|     5140.0|        1238.0|                1.0|                   0.0|               1.0|             1.0|        1.2333333|            4.0|        413.0|                    11.0|           1.0|          2.0|         1.0|         False|     False|    False|     False| False|  False|   274800.0|    (25,[0,3,12,13,14...|           [-0.2591684891066...|                 1.0|             1.0|            1.0|             1.0|         0.0|          0.0|\n",
      "|           1.98|         0.0|          0.0|        1.0|                       0.0|            0.0|                 0.0|                       0.0|                  0.0|                    0.0|                0.0|                   0.0|     5227.0|        2096.0|                1.0|                   0.0|               1.0|             1.0|        0.8666667|      3.3333333|        926.0|                    13.0|           3.0|          4.0|         1.0|         False|     False|    False|     False| False|  False|   358000.0|    (25,[0,3,12,13,14...|           [-0.2591684891066...|                 1.0|             1.0|            1.0|             1.0|         0.0|          0.0|\n",
      "+---------------+------------+-------------+-----------+--------------------------+---------------+--------------------+--------------------------+---------------------+-----------------------+-------------------+----------------------+-----------+--------------+-------------------+----------------------+------------------+----------------+-----------------+---------------+-------------+------------------------+--------------+-------------+------------+--------------+----------+---------+----------+------+-------+-----------+------------------------+-------------------------------+--------------------+----------------+---------------+----------------+------------+-------------+\n",
      "only showing top 3 rows\n",
      "\n"
     ]
    }
   ],
   "source": [
    "train.show(3)"
   ]
  },
  {
   "cell_type": "code",
   "execution_count": 579,
   "metadata": {},
   "outputs": [
    {
     "data": {
      "text/plain": [
       "[Row(scaled_numerical_feature_vector=DenseVector([-0.2592, -0.9422, -0.9368, -1.6534, -0.0696, -1.8757, -2.2352, -0.6819, -0.5658, -0.0492, -0.4184, -0.0968, -0.0122, -0.5545, 0.2502, -0.2066, -0.1352, 0.0692, -0.368, 0.4922, -0.5521, 0.0878, -0.6544, -0.5194, -0.8777])),\n",
       " Row(scaled_numerical_feature_vector=DenseVector([-0.2592, -0.9422, -0.9368, -1.6534, -0.0696, -1.8757, -2.2352, -0.6819, -0.5658, -0.0492, -0.4184, -0.0968, -0.0121, -0.5927, 0.2502, -0.2066, -0.1352, 0.0692, -0.5549, -0.9321, -2.52, -2.1944, -1.6253, -1.7024, -0.8777])),\n",
       " Row(scaled_numerical_feature_vector=DenseVector([-0.2592, -0.9422, -0.9368, -1.6534, -0.0696, -1.8757, -2.2352, -0.6819, -0.5658, -0.0492, -0.4184, -0.0968, -0.0121, -0.0638, 0.2502, -0.2066, -0.1352, 0.0692, -0.8975, -1.2882, -0.9524, -1.0533, 0.3166, 0.6636, -0.8777]))]"
      ]
     },
     "execution_count": 579,
     "metadata": {},
     "output_type": "execute_result"
    }
   ],
   "source": [
    "train.select('scaled_numerical_feature_vector').take(3)"
   ]
  },
  {
   "cell_type": "markdown",
   "metadata": {},
   "source": [
    "##### Converting categorical values to one hot encoding format"
   ]
  },
  {
   "cell_type": "code",
   "execution_count": 580,
   "metadata": {},
   "outputs": [
    {
     "name": "stdout",
     "output_type": "stream",
     "text": [
      "+---------------+------------+-------------+-----------+--------------------------+---------------+--------------------+--------------------------+---------------------+-----------------------+-------------------+----------------------+-----------+--------------+-------------------+----------------------+------------------+----------------+-----------------+---------------+-------------+------------------------+--------------+-------------+------------+--------------+----------+---------+----------+------+-------+-----------+------------------------+-------------------------------+--------------------+----------------+---------------+----------------+------------+-------------+-------------------+---------------+--------------+---------------+-------------+-------------+\n",
      "|propertyTaxRate|garageSpaces|parkingSpaces|numOfPhotos|numOfAccessibilityFeatures|numOfAppliances|numOfParkingFeatures|numOfPatioAndPorchFeatures|numOfSecurityFeatures|numOfWaterfrontFeatures|numOfWindowFeatures|numOfCommunityFeatures|lotSizeSqFt|livingAreaSqFt|numOfPrimarySchools|numOfElementarySchools|numOfMiddleSchools|numOfHighSchools|avgSchoolDistance|avgSchoolRating|avgSchoolSize|MedianStudentsPerTeacher|numOfBathrooms|numOfBedrooms|numOfStories|hasAssociation|hasCooling|hasGarage|hasHeating|hasSpa|hasView|latestPrice|numerical_feature_vector|scaled_numerical_feature_vector|hasAssociation_index|hasCooling_index|hasGarage_index|hasHeating_index|hasSpa_index|hasView_index|hasAssociation_1hot|hasCooling_1hot|hasGarage_1hot|hasHeating_1hot|  hasSpa_1hot| hasView_1hot|\n",
      "+---------------+------------+-------------+-----------+--------------------------+---------------+--------------------+--------------------------+---------------------+-----------------------+-------------------+----------------------+-----------+--------------+-------------------+----------------------+------------------+----------------+-----------------+---------------+-------------+------------------------+--------------+-------------+------------+--------------+----------+---------+----------+------+-------+-----------+------------------------+-------------------------------+--------------------+----------------+---------------+----------------+------------+-------------+-------------------+---------------+--------------+---------------+-------------+-------------+\n",
      "|           1.98|         0.0|          0.0|        1.0|                       0.0|            0.0|                 0.0|                       0.0|                  0.0|                    0.0|                0.0|                   0.0|     3049.0|        1300.0|                1.0|                   0.0|               1.0|             1.0|        1.4333333|      6.6666665|       1057.0|                    15.0|           2.0|          3.0|         1.0|         False|      True|    False|      True| False|  False|   550000.0|    (25,[0,3,12,13,14...|           [-0.2591684891066...|                 1.0|             0.0|            1.0|             0.0|         0.0|          0.0|          (1,[],[])|  (1,[0],[1.0])|     (1,[],[])|  (1,[0],[1.0])|(1,[0],[1.0])|(1,[0],[1.0])|\n",
      "|           1.98|         0.0|          0.0|        1.0|                       0.0|            0.0|                 0.0|                       0.0|                  0.0|                    0.0|                0.0|                   0.0|     5140.0|        1238.0|                1.0|                   0.0|               1.0|             1.0|        1.2333333|            4.0|        413.0|                    11.0|           1.0|          2.0|         1.0|         False|     False|    False|     False| False|  False|   274800.0|    (25,[0,3,12,13,14...|           [-0.2591684891066...|                 1.0|             1.0|            1.0|             1.0|         0.0|          0.0|          (1,[],[])|      (1,[],[])|     (1,[],[])|      (1,[],[])|(1,[0],[1.0])|(1,[0],[1.0])|\n",
      "|           1.98|         0.0|          0.0|        1.0|                       0.0|            0.0|                 0.0|                       0.0|                  0.0|                    0.0|                0.0|                   0.0|     5227.0|        2096.0|                1.0|                   0.0|               1.0|             1.0|        0.8666667|      3.3333333|        926.0|                    13.0|           3.0|          4.0|         1.0|         False|     False|    False|     False| False|  False|   358000.0|    (25,[0,3,12,13,14...|           [-0.2591684891066...|                 1.0|             1.0|            1.0|             1.0|         0.0|          0.0|          (1,[],[])|      (1,[],[])|     (1,[],[])|      (1,[],[])|(1,[0],[1.0])|(1,[0],[1.0])|\n",
      "+---------------+------------+-------------+-----------+--------------------------+---------------+--------------------+--------------------------+---------------------+-----------------------+-------------------+----------------------+-----------+--------------+-------------------+----------------------+------------------+----------------+-----------------+---------------+-------------+------------------------+--------------+-------------+------------+--------------+----------+---------+----------+------+-------+-----------+------------------------+-------------------------------+--------------------+----------------+---------------+----------------+------------+-------------+-------------------+---------------+--------------+---------------+-------------+-------------+\n",
      "only showing top 3 rows\n",
      "\n"
     ]
    }
   ],
   "source": [
    "one_hot_encoder = OneHotEncoder(inputCols=categorical_1hotindexfeatures_list,\n",
    "                                outputCols=categorical_1hotendcodingfeatures_list)\n",
    "\n",
    "one_hot_encoder = one_hot_encoder.fit(train)\n",
    "\n",
    "train = one_hot_encoder.transform(train)\n",
    "test = one_hot_encoder.transform(test)\n",
    "train.show(3)"
   ]
  },
  {
   "cell_type": "code",
   "execution_count": 581,
   "metadata": {},
   "outputs": [
    {
     "data": {
      "text/plain": [
       "[Row(hasAssociation_1hot=SparseVector(1, {}), hasCooling_1hot=SparseVector(1, {0: 1.0}), hasGarage_1hot=SparseVector(1, {}), hasHeating_1hot=SparseVector(1, {0: 1.0}), hasSpa_1hot=SparseVector(1, {0: 1.0}), hasView_1hot=SparseVector(1, {0: 1.0})),\n",
       " Row(hasAssociation_1hot=SparseVector(1, {}), hasCooling_1hot=SparseVector(1, {}), hasGarage_1hot=SparseVector(1, {}), hasHeating_1hot=SparseVector(1, {}), hasSpa_1hot=SparseVector(1, {0: 1.0}), hasView_1hot=SparseVector(1, {0: 1.0})),\n",
       " Row(hasAssociation_1hot=SparseVector(1, {}), hasCooling_1hot=SparseVector(1, {}), hasGarage_1hot=SparseVector(1, {}), hasHeating_1hot=SparseVector(1, {}), hasSpa_1hot=SparseVector(1, {0: 1.0}), hasView_1hot=SparseVector(1, {0: 1.0}))]"
      ]
     },
     "execution_count": 581,
     "metadata": {},
     "output_type": "execute_result"
    }
   ],
   "source": [
    "train.select(categorical_1hotendcodingfeatures_list).take(3)"
   ]
  },
  {
   "cell_type": "markdown",
   "metadata": {},
   "source": [
    "##### Creating the final feature vector"
   ]
  },
  {
   "cell_type": "code",
   "execution_count": 582,
   "metadata": {},
   "outputs": [
    {
     "data": {
      "text/plain": [
       "['scaled_numerical_feature_vector',\n",
       " 'hasAssociation_1hot',\n",
       " 'hasCooling_1hot',\n",
       " 'hasGarage_1hot',\n",
       " 'hasHeating_1hot',\n",
       " 'hasSpa_1hot',\n",
       " 'hasView_1hot']"
      ]
     },
     "execution_count": 582,
     "metadata": {},
     "output_type": "execute_result"
    }
   ],
   "source": [
    "['scaled_numerical_feature_vector']+[x for x in categorical_1hotendcodingfeatures_list]"
   ]
  },
  {
   "cell_type": "code",
   "execution_count": 583,
   "metadata": {},
   "outputs": [],
   "source": [
    "assembler = VectorAssembler(inputCols=['scaled_numerical_feature_vector']+\n",
    "                                       [x for x in categorical_1hotendcodingfeatures_list],\n",
    "                            outputCol='final_feature_vector')\n",
    "\n",
    "train = assembler.transform(train)\n",
    "test = assembler.transform(test)"
   ]
  },
  {
   "cell_type": "code",
   "execution_count": 584,
   "metadata": {},
   "outputs": [
    {
     "name": "stdout",
     "output_type": "stream",
     "text": [
      "+---------------+------------+-------------+-----------+--------------------------+---------------+--------------------+--------------------------+---------------------+-----------------------+-------------------+----------------------+-----------+--------------+-------------------+----------------------+------------------+----------------+-----------------+---------------+-------------+------------------------+--------------+-------------+------------+--------------+----------+---------+----------+------+-------+-----------+------------------------+-------------------------------+--------------------+----------------+---------------+----------------+------------+-------------+-------------------+---------------+--------------+---------------+-------------+-------------+--------------------+\n",
      "|propertyTaxRate|garageSpaces|parkingSpaces|numOfPhotos|numOfAccessibilityFeatures|numOfAppliances|numOfParkingFeatures|numOfPatioAndPorchFeatures|numOfSecurityFeatures|numOfWaterfrontFeatures|numOfWindowFeatures|numOfCommunityFeatures|lotSizeSqFt|livingAreaSqFt|numOfPrimarySchools|numOfElementarySchools|numOfMiddleSchools|numOfHighSchools|avgSchoolDistance|avgSchoolRating|avgSchoolSize|MedianStudentsPerTeacher|numOfBathrooms|numOfBedrooms|numOfStories|hasAssociation|hasCooling|hasGarage|hasHeating|hasSpa|hasView|latestPrice|numerical_feature_vector|scaled_numerical_feature_vector|hasAssociation_index|hasCooling_index|hasGarage_index|hasHeating_index|hasSpa_index|hasView_index|hasAssociation_1hot|hasCooling_1hot|hasGarage_1hot|hasHeating_1hot|  hasSpa_1hot| hasView_1hot|final_feature_vector|\n",
      "+---------------+------------+-------------+-----------+--------------------------+---------------+--------------------+--------------------------+---------------------+-----------------------+-------------------+----------------------+-----------+--------------+-------------------+----------------------+------------------+----------------+-----------------+---------------+-------------+------------------------+--------------+-------------+------------+--------------+----------+---------+----------+------+-------+-----------+------------------------+-------------------------------+--------------------+----------------+---------------+----------------+------------+-------------+-------------------+---------------+--------------+---------------+-------------+-------------+--------------------+\n",
      "|           1.98|         0.0|          0.0|        1.0|                       0.0|            0.0|                 0.0|                       0.0|                  0.0|                    0.0|                0.0|                   0.0|     3049.0|        1300.0|                1.0|                   0.0|               1.0|             1.0|        1.4333333|      6.6666665|       1057.0|                    15.0|           2.0|          3.0|         1.0|         False|      True|    False|      True| False|  False|   550000.0|    (25,[0,3,12,13,14...|           [-0.2591684891066...|                 1.0|             0.0|            1.0|             0.0|         0.0|          0.0|          (1,[],[])|  (1,[0],[1.0])|     (1,[],[])|  (1,[0],[1.0])|(1,[0],[1.0])|(1,[0],[1.0])|[-0.2591684891066...|\n",
      "|           1.98|         0.0|          0.0|        1.0|                       0.0|            0.0|                 0.0|                       0.0|                  0.0|                    0.0|                0.0|                   0.0|     5140.0|        1238.0|                1.0|                   0.0|               1.0|             1.0|        1.2333333|            4.0|        413.0|                    11.0|           1.0|          2.0|         1.0|         False|     False|    False|     False| False|  False|   274800.0|    (25,[0,3,12,13,14...|           [-0.2591684891066...|                 1.0|             1.0|            1.0|             1.0|         0.0|          0.0|          (1,[],[])|      (1,[],[])|     (1,[],[])|      (1,[],[])|(1,[0],[1.0])|(1,[0],[1.0])|[-0.2591684891066...|\n",
      "+---------------+------------+-------------+-----------+--------------------------+---------------+--------------------+--------------------------+---------------------+-----------------------+-------------------+----------------------+-----------+--------------+-------------------+----------------------+------------------+----------------+-----------------+---------------+-------------+------------------------+--------------+-------------+------------+--------------+----------+---------+----------+------+-------+-----------+------------------------+-------------------------------+--------------------+----------------+---------------+----------------+------------+-------------+-------------------+---------------+--------------+---------------+-------------+-------------+--------------------+\n",
      "only showing top 2 rows\n",
      "\n"
     ]
    }
   ],
   "source": [
    "train.show(2)"
   ]
  },
  {
   "cell_type": "code",
   "execution_count": 585,
   "metadata": {},
   "outputs": [
    {
     "data": {
      "text/plain": [
       "[Row(final_feature_vector=DenseVector([-0.2592, -0.9422, -0.9368, -1.6534, -0.0696, -1.8757, -2.2352, -0.6819, -0.5658, -0.0492, -0.4184, -0.0968, -0.0122, -0.5545, 0.2502, -0.2066, -0.1352, 0.0692, -0.368, 0.4922, -0.5521, 0.0878, -0.6544, -0.5194, -0.8777, 0.0, 1.0, 0.0, 1.0, 1.0, 1.0])),\n",
       " Row(final_feature_vector=DenseVector([-0.2592, -0.9422, -0.9368, -1.6534, -0.0696, -1.8757, -2.2352, -0.6819, -0.5658, -0.0492, -0.4184, -0.0968, -0.0121, -0.5927, 0.2502, -0.2066, -0.1352, 0.0692, -0.5549, -0.9321, -2.52, -2.1944, -1.6253, -1.7024, -0.8777, 0.0, 0.0, 0.0, 0.0, 1.0, 1.0])),\n",
       " Row(final_feature_vector=DenseVector([-0.2592, -0.9422, -0.9368, -1.6534, -0.0696, -1.8757, -2.2352, -0.6819, -0.5658, -0.0492, -0.4184, -0.0968, -0.0121, -0.0638, 0.2502, -0.2066, -0.1352, 0.0692, -0.8975, -1.2882, -0.9524, -1.0533, 0.3166, 0.6636, -0.8777, 0.0, 0.0, 0.0, 0.0, 1.0, 1.0]))]"
      ]
     },
     "execution_count": 585,
     "metadata": {},
     "output_type": "execute_result"
    }
   ],
   "source": [
    "train.select('final_feature_vector').take(3)"
   ]
  },
  {
   "cell_type": "code",
   "execution_count": 586,
   "metadata": {},
   "outputs": [
    {
     "data": {
      "text/plain": [
       "[Row(final_feature_vector=DenseVector([-0.2592, -0.9422, -0.9368, -1.6534, -0.0696, -1.8757, -2.2352, -0.6819, -0.5658, -0.0492, -0.4184, -0.0968, -0.0122, -0.5545, 0.2502, -0.2066, -0.1352, 0.0692, -0.368, 0.4922, -0.5521, 0.0878, -0.6544, -0.5194, -0.8777, 0.0, 1.0, 0.0, 1.0, 1.0, 1.0]))]"
      ]
     },
     "execution_count": 586,
     "metadata": {},
     "output_type": "execute_result"
    }
   ],
   "source": [
    "train.select('final_feature_vector').take(1)"
   ]
  },
  {
   "cell_type": "code",
   "execution_count": 587,
   "metadata": {},
   "outputs": [
    {
     "data": {
      "text/plain": [
       "LinearRegression_a3923b5baf93"
      ]
     },
     "execution_count": 587,
     "metadata": {},
     "output_type": "execute_result"
    }
   ],
   "source": [
    "lr = LinearRegression(featuresCol='final_feature_vector',\n",
    "                      labelCol='latestPrice',\n",
    "                      regParam=0.01)\n",
    "\n",
    "lr"
   ]
  },
  {
   "cell_type": "code",
   "execution_count": 588,
   "metadata": {},
   "outputs": [
    {
     "data": {
      "text/plain": [
       "LinearRegressionModel: uid=LinearRegression_a3923b5baf93, numFeatures=31"
      ]
     },
     "execution_count": 588,
     "metadata": {},
     "output_type": "execute_result"
    }
   ],
   "source": [
    "linearModel = lr.fit(train)\n",
    "\n",
    "linearModel"
   ]
  },
  {
   "cell_type": "code",
   "execution_count": 589,
   "metadata": {},
   "outputs": [
    {
     "data": {
      "text/plain": [
       "DenseVector([-51606.0546, 112556.4379, -110466.5976, 18765.2947, 4594.7902, -1872.7643, 33056.3579, 9428.0167, 1460.216, 44053.2231, -338.537, -10956.2114, 8670.2485, 85467.3761, 48911.6209, 53746.6737, 2756.1814, -28997.336, -2294.6339, 108062.3781, -38433.8679, -21829.2417, 231753.2216, -40607.6898, -48280.1734, -165097.1307, -183589.9816, -54155.0252, -105970.8515, -84552.0183, -26500.5804])"
      ]
     },
     "execution_count": 589,
     "metadata": {},
     "output_type": "execute_result"
    }
   ],
   "source": [
    "linearModel.coefficients"
   ]
  },
  {
   "cell_type": "markdown",
   "metadata": {},
   "source": [
    "##### Generating predictions"
   ]
  },
  {
   "cell_type": "code",
   "execution_count": 590,
   "metadata": {},
   "outputs": [
    {
     "data": {
      "text/plain": [
       "31"
      ]
     },
     "execution_count": 590,
     "metadata": {},
     "output_type": "execute_result"
    }
   ],
   "source": [
    "len(test.select(numerical_features_list + categorical_features_list).columns)"
   ]
  },
  {
   "cell_type": "code",
   "execution_count": 591,
   "metadata": {},
   "outputs": [
    {
     "data": {
      "text/plain": [
       "DenseVector([-51606.0546, 112556.4379, -110466.5976, 18765.2947, 4594.7902, -1872.7643, 33056.3579, 9428.0167, 1460.216, 44053.2231, -338.537, -10956.2114, 8670.2485, 85467.3761, 48911.6209, 53746.6737, 2756.1814, -28997.336, -2294.6339, 108062.3781, -38433.8679, -21829.2417, 231753.2216, -40607.6898, -48280.1734, -165097.1307, -183589.9816, -54155.0252, -105970.8515, -84552.0183, -26500.5804])"
      ]
     },
     "execution_count": 591,
     "metadata": {},
     "output_type": "execute_result"
    }
   ],
   "source": [
    "linearModel.coefficients"
   ]
  },
  {
   "cell_type": "code",
   "execution_count": 592,
   "metadata": {},
   "outputs": [
    {
     "data": {
      "text/plain": [
       "31"
      ]
     },
     "execution_count": 592,
     "metadata": {},
     "output_type": "execute_result"
    }
   ],
   "source": [
    "len(linearModel.coefficients)"
   ]
  },
  {
   "cell_type": "code",
   "execution_count": 593,
   "metadata": {},
   "outputs": [],
   "source": [
    "predictions = linearModel.transform(test)"
   ]
  },
  {
   "cell_type": "code",
   "execution_count": 594,
   "metadata": {},
   "outputs": [
    {
     "name": "stdout",
     "output_type": "stream",
     "text": [
      "+---------------+------------+-------------+-----------+--------------------------+---------------+--------------------+--------------------------+---------------------+-----------------------+-------------------+----------------------+-----------+--------------+-------------------+----------------------+------------------+----------------+-----------------+---------------+-------------+------------------------+--------------+-------------+------------+--------------+----------+---------+----------+------+-------+-----------+------------------------+-------------------------------+--------------------+----------------+---------------+----------------+------------+-------------+-------------------+---------------+--------------+---------------+-------------+-------------+--------------------+-----------------+\n",
      "|propertyTaxRate|garageSpaces|parkingSpaces|numOfPhotos|numOfAccessibilityFeatures|numOfAppliances|numOfParkingFeatures|numOfPatioAndPorchFeatures|numOfSecurityFeatures|numOfWaterfrontFeatures|numOfWindowFeatures|numOfCommunityFeatures|lotSizeSqFt|livingAreaSqFt|numOfPrimarySchools|numOfElementarySchools|numOfMiddleSchools|numOfHighSchools|avgSchoolDistance|avgSchoolRating|avgSchoolSize|MedianStudentsPerTeacher|numOfBathrooms|numOfBedrooms|numOfStories|hasAssociation|hasCooling|hasGarage|hasHeating|hasSpa|hasView|latestPrice|numerical_feature_vector|scaled_numerical_feature_vector|hasAssociation_index|hasCooling_index|hasGarage_index|hasHeating_index|hasSpa_index|hasView_index|hasAssociation_1hot|hasCooling_1hot|hasGarage_1hot|hasHeating_1hot|  hasSpa_1hot| hasView_1hot|final_feature_vector|       prediction|\n",
      "+---------------+------------+-------------+-----------+--------------------------+---------------+--------------------+--------------------------+---------------------+-----------------------+-------------------+----------------------+-----------+--------------+-------------------+----------------------+------------------+----------------+-----------------+---------------+-------------+------------------------+--------------+-------------+------------+--------------+----------+---------+----------+------+-------+-----------+------------------------+-------------------------------+--------------------+----------------+---------------+----------------+------------+-------------+-------------------+---------------+--------------+---------------+-------------+-------------+--------------------+-----------------+\n",
      "|           1.98|         0.0|          0.0|        1.0|                       0.0|            0.0|                 0.0|                       0.0|                  0.0|                    0.0|                0.0|                   0.0|     7143.0|        2798.0|                1.0|                   0.0|               1.0|             1.0|       0.36666667|      4.3333335|        916.0|                    14.0|           3.0|          4.0|         1.0|         False|      True|    False|      True| False|  False|   674900.0|    (25,[0,3,12,13,14...|           [-0.2591684891066...|                 1.0|             0.0|            1.0|             0.0|         0.0|          0.0|          (1,[],[])|  (1,[0],[1.0])|     (1,[],[])|  (1,[0],[1.0])|(1,[0],[1.0])|(1,[0],[1.0])|[-0.2591684891066...|597217.2436677001|\n",
      "|           1.98|         0.0|          0.0|        1.0|                       0.0|            0.0|                 0.0|                       0.0|                  0.0|                    0.0|                0.0|                   0.0|     9496.0|        1438.0|                1.0|                   0.0|               1.0|             1.0|              1.9|            5.0|       1450.0|                    15.0|           2.5|          3.0|         1.0|         False|     False|    False|     False| False|  False|   154900.0|    (25,[0,3,12,13,14...|           [-0.2591684891066...|                 1.0|             1.0|            1.0|             1.0|         0.0|          0.0|          (1,[],[])|      (1,[],[])|     (1,[],[])|      (1,[],[])|(1,[0],[1.0])|(1,[0],[1.0])|[-0.2591684891066...|710677.7033209288|\n",
      "|           1.98|         0.0|          0.0|        1.0|                       0.0|            0.0|                 0.0|                       0.0|                  0.0|                    0.0|                0.0|                   0.0|     9888.0|         896.0|                1.0|                   0.0|               1.0|             1.0|              1.2|      3.6666667|        861.0|                    12.0|           1.0|          2.0|         1.0|         False|     False|    False|      True| False|  False|   178900.0|    (25,[0,3,12,13,14...|           [-0.2591684891066...|                 1.0|             1.0|            1.0|             0.0|         0.0|          0.0|          (1,[],[])|      (1,[],[])|     (1,[],[])|  (1,[0],[1.0])|(1,[0],[1.0])|(1,[0],[1.0])|[-0.2591684891066...|317737.2988329291|\n",
      "+---------------+------------+-------------+-----------+--------------------------+---------------+--------------------+--------------------------+---------------------+-----------------------+-------------------+----------------------+-----------+--------------+-------------------+----------------------+------------------+----------------+-----------------+---------------+-------------+------------------------+--------------+-------------+------------+--------------+----------+---------+----------+------+-------+-----------+------------------------+-------------------------------+--------------------+----------------+---------------+----------------+------------+-------------+-------------------+---------------+--------------+---------------+-------------+-------------+--------------------+-----------------+\n",
      "only showing top 3 rows\n",
      "\n"
     ]
    }
   ],
   "source": [
    "predictions.show(3)"
   ]
  },
  {
   "cell_type": "markdown",
   "metadata": {},
   "source": [
    "##### Evaluating the predictions"
   ]
  },
  {
   "cell_type": "code",
   "execution_count": 595,
   "metadata": {},
   "outputs": [],
   "source": [
    "predictions_and_actuals = predictions.select('prediction',\n",
    "                                        'latestPrice')\n",
    "\n"
   ]
  },
  {
   "cell_type": "code",
   "execution_count": 596,
   "metadata": {},
   "outputs": [],
   "source": [
    "predictions_and_actuals_rdd = predictions_and_actuals.rdd"
   ]
  },
  {
   "cell_type": "code",
   "execution_count": 597,
   "metadata": {},
   "outputs": [
    {
     "data": {
      "text/plain": [
       "[Row(prediction=597217.2436677001, latestPrice=674900.0),\n",
       " Row(prediction=710677.7033209288, latestPrice=154900.0)]"
      ]
     },
     "execution_count": 597,
     "metadata": {},
     "output_type": "execute_result"
    }
   ],
   "source": [
    "predictions_and_actuals_rdd.take(2)"
   ]
  },
  {
   "cell_type": "code",
   "execution_count": 598,
   "metadata": {},
   "outputs": [
    {
     "data": {
      "text/plain": [
       "[(597217.2436677001, 674900.0), (710677.7033209288, 154900.0)]"
      ]
     },
     "execution_count": 598,
     "metadata": {},
     "output_type": "execute_result"
    }
   ],
   "source": [
    "predictions_and_actuals_rdd = predictions_and_actuals_rdd.map(tuple)\n",
    "\n",
    "predictions_and_actuals_rdd.take(2)"
   ]
  },
  {
   "cell_type": "code",
   "execution_count": 599,
   "metadata": {},
   "outputs": [
    {
     "name": "stderr",
     "output_type": "stream",
     "text": [
      "/home/shivd/studies/georgian/datacolncur/venv/lib/python3.10/site-packages/pyspark/sql/context.py:158: FutureWarning: Deprecated in 3.0.0. Use SparkSession.builder.getOrCreate() instead.\n",
      "  warnings.warn(\n"
     ]
    },
    {
     "name": "stdout",
     "output_type": "stream",
     "text": [
      "\n",
      "Mean Squared Error:      91464855001.31107\n",
      "Root Mean Squared Error: 302431.57077479706\n",
      "Mean Absolute Error:     174045.99378944412\n",
      "R**2:                    0.4493320622259688\n",
      "\n"
     ]
    }
   ],
   "source": [
    "metrics = RegressionMetrics(predictions_and_actuals_rdd)\n",
    "\n",
    "s = '''\n",
    "Mean Squared Error:      {0}\n",
    "Root Mean Squared Error: {1}\n",
    "Mean Absolute Error:     {2}\n",
    "R**2:                    {3}\n",
    "'''.format(metrics.meanSquaredError,\n",
    "           metrics.rootMeanSquaredError,\n",
    "           metrics.meanAbsoluteError,\n",
    "           metrics.r2\n",
    "           )\n",
    "\n",
    "print(s)"
   ]
  },
  {
   "cell_type": "markdown",
   "metadata": {},
   "source": [
    "##### Inspect the model coefficients"
   ]
  },
  {
   "cell_type": "code",
   "execution_count": 600,
   "metadata": {},
   "outputs": [
    {
     "data": {
      "text/plain": [
       "31"
      ]
     },
     "execution_count": 600,
     "metadata": {},
     "output_type": "execute_result"
    }
   ],
   "source": [
    "len(linearModel.coefficients)"
   ]
  },
  {
   "cell_type": "code",
   "execution_count": 601,
   "metadata": {},
   "outputs": [
    {
     "data": {
      "text/plain": [
       "1008022.8505894007"
      ]
     },
     "execution_count": 601,
     "metadata": {},
     "output_type": "execute_result"
    }
   ],
   "source": [
    "linearModel.intercept"
   ]
  },
  {
   "cell_type": "code",
   "execution_count": 602,
   "metadata": {},
   "outputs": [],
   "source": [
    "featureCols = numerical_features_list + categorical_features_list"
   ]
  },
  {
   "cell_type": "code",
   "execution_count": 603,
   "metadata": {},
   "outputs": [
    {
     "data": {
      "text/plain": [
       "31"
      ]
     },
     "execution_count": 603,
     "metadata": {},
     "output_type": "execute_result"
    }
   ],
   "source": [
    "len(featureCols)"
   ]
  },
  {
   "cell_type": "code",
   "execution_count": 604,
   "metadata": {},
   "outputs": [],
   "source": [
    "coeff_df = pd.DataFrame({\"Feature\": [\"Intercept\"] + featureCols, \"Co-efficients\": np.insert(linearModel.coefficients.toArray(), 0, linearModel.intercept)})\n",
    "coeff_df = coeff_df[[\"Feature\", \"Co-efficients\"]]"
   ]
  },
  {
   "cell_type": "code",
   "execution_count": 605,
   "metadata": {},
   "outputs": [
    {
     "data": {
      "text/html": [
       "<div>\n",
       "<style scoped>\n",
       "    .dataframe tbody tr th:only-of-type {\n",
       "        vertical-align: middle;\n",
       "    }\n",
       "\n",
       "    .dataframe tbody tr th {\n",
       "        vertical-align: top;\n",
       "    }\n",
       "\n",
       "    .dataframe thead th {\n",
       "        text-align: right;\n",
       "    }\n",
       "</style>\n",
       "<table border=\"1\" class=\"dataframe\">\n",
       "  <thead>\n",
       "    <tr style=\"text-align: right;\">\n",
       "      <th></th>\n",
       "      <th>Feature</th>\n",
       "      <th>Co-efficients</th>\n",
       "    </tr>\n",
       "  </thead>\n",
       "  <tbody>\n",
       "    <tr>\n",
       "      <th>0</th>\n",
       "      <td>Intercept</td>\n",
       "      <td>1.008023e+06</td>\n",
       "    </tr>\n",
       "    <tr>\n",
       "      <th>1</th>\n",
       "      <td>propertyTaxRate</td>\n",
       "      <td>-5.160605e+04</td>\n",
       "    </tr>\n",
       "    <tr>\n",
       "      <th>2</th>\n",
       "      <td>garageSpaces</td>\n",
       "      <td>1.125564e+05</td>\n",
       "    </tr>\n",
       "    <tr>\n",
       "      <th>3</th>\n",
       "      <td>parkingSpaces</td>\n",
       "      <td>-1.104666e+05</td>\n",
       "    </tr>\n",
       "    <tr>\n",
       "      <th>4</th>\n",
       "      <td>numOfPhotos</td>\n",
       "      <td>1.876529e+04</td>\n",
       "    </tr>\n",
       "    <tr>\n",
       "      <th>5</th>\n",
       "      <td>numOfAccessibilityFeatures</td>\n",
       "      <td>4.594790e+03</td>\n",
       "    </tr>\n",
       "    <tr>\n",
       "      <th>6</th>\n",
       "      <td>numOfAppliances</td>\n",
       "      <td>-1.872764e+03</td>\n",
       "    </tr>\n",
       "    <tr>\n",
       "      <th>7</th>\n",
       "      <td>numOfParkingFeatures</td>\n",
       "      <td>3.305636e+04</td>\n",
       "    </tr>\n",
       "    <tr>\n",
       "      <th>8</th>\n",
       "      <td>numOfPatioAndPorchFeatures</td>\n",
       "      <td>9.428017e+03</td>\n",
       "    </tr>\n",
       "    <tr>\n",
       "      <th>9</th>\n",
       "      <td>numOfSecurityFeatures</td>\n",
       "      <td>1.460216e+03</td>\n",
       "    </tr>\n",
       "    <tr>\n",
       "      <th>10</th>\n",
       "      <td>numOfWaterfrontFeatures</td>\n",
       "      <td>4.405322e+04</td>\n",
       "    </tr>\n",
       "    <tr>\n",
       "      <th>11</th>\n",
       "      <td>numOfWindowFeatures</td>\n",
       "      <td>-3.385370e+02</td>\n",
       "    </tr>\n",
       "    <tr>\n",
       "      <th>12</th>\n",
       "      <td>numOfCommunityFeatures</td>\n",
       "      <td>-1.095621e+04</td>\n",
       "    </tr>\n",
       "    <tr>\n",
       "      <th>13</th>\n",
       "      <td>lotSizeSqFt</td>\n",
       "      <td>8.670248e+03</td>\n",
       "    </tr>\n",
       "    <tr>\n",
       "      <th>14</th>\n",
       "      <td>livingAreaSqFt</td>\n",
       "      <td>8.546738e+04</td>\n",
       "    </tr>\n",
       "    <tr>\n",
       "      <th>15</th>\n",
       "      <td>numOfPrimarySchools</td>\n",
       "      <td>4.891162e+04</td>\n",
       "    </tr>\n",
       "    <tr>\n",
       "      <th>16</th>\n",
       "      <td>numOfElementarySchools</td>\n",
       "      <td>5.374667e+04</td>\n",
       "    </tr>\n",
       "    <tr>\n",
       "      <th>17</th>\n",
       "      <td>numOfMiddleSchools</td>\n",
       "      <td>2.756181e+03</td>\n",
       "    </tr>\n",
       "    <tr>\n",
       "      <th>18</th>\n",
       "      <td>numOfHighSchools</td>\n",
       "      <td>-2.899734e+04</td>\n",
       "    </tr>\n",
       "    <tr>\n",
       "      <th>19</th>\n",
       "      <td>avgSchoolDistance</td>\n",
       "      <td>-2.294634e+03</td>\n",
       "    </tr>\n",
       "    <tr>\n",
       "      <th>20</th>\n",
       "      <td>avgSchoolRating</td>\n",
       "      <td>1.080624e+05</td>\n",
       "    </tr>\n",
       "    <tr>\n",
       "      <th>21</th>\n",
       "      <td>avgSchoolSize</td>\n",
       "      <td>-3.843387e+04</td>\n",
       "    </tr>\n",
       "    <tr>\n",
       "      <th>22</th>\n",
       "      <td>MedianStudentsPerTeacher</td>\n",
       "      <td>-2.182924e+04</td>\n",
       "    </tr>\n",
       "    <tr>\n",
       "      <th>23</th>\n",
       "      <td>numOfBathrooms</td>\n",
       "      <td>2.317532e+05</td>\n",
       "    </tr>\n",
       "    <tr>\n",
       "      <th>24</th>\n",
       "      <td>numOfBedrooms</td>\n",
       "      <td>-4.060769e+04</td>\n",
       "    </tr>\n",
       "    <tr>\n",
       "      <th>25</th>\n",
       "      <td>numOfStories</td>\n",
       "      <td>-4.828017e+04</td>\n",
       "    </tr>\n",
       "    <tr>\n",
       "      <th>26</th>\n",
       "      <td>hasAssociation</td>\n",
       "      <td>-1.650971e+05</td>\n",
       "    </tr>\n",
       "    <tr>\n",
       "      <th>27</th>\n",
       "      <td>hasCooling</td>\n",
       "      <td>-1.835900e+05</td>\n",
       "    </tr>\n",
       "    <tr>\n",
       "      <th>28</th>\n",
       "      <td>hasGarage</td>\n",
       "      <td>-5.415503e+04</td>\n",
       "    </tr>\n",
       "    <tr>\n",
       "      <th>29</th>\n",
       "      <td>hasHeating</td>\n",
       "      <td>-1.059709e+05</td>\n",
       "    </tr>\n",
       "    <tr>\n",
       "      <th>30</th>\n",
       "      <td>hasSpa</td>\n",
       "      <td>-8.455202e+04</td>\n",
       "    </tr>\n",
       "    <tr>\n",
       "      <th>31</th>\n",
       "      <td>hasView</td>\n",
       "      <td>-2.650058e+04</td>\n",
       "    </tr>\n",
       "  </tbody>\n",
       "</table>\n",
       "</div>"
      ],
      "text/plain": [
       "                       Feature  Co-efficients\n",
       "0                    Intercept   1.008023e+06\n",
       "1              propertyTaxRate  -5.160605e+04\n",
       "2                 garageSpaces   1.125564e+05\n",
       "3                parkingSpaces  -1.104666e+05\n",
       "4                  numOfPhotos   1.876529e+04\n",
       "5   numOfAccessibilityFeatures   4.594790e+03\n",
       "6              numOfAppliances  -1.872764e+03\n",
       "7         numOfParkingFeatures   3.305636e+04\n",
       "8   numOfPatioAndPorchFeatures   9.428017e+03\n",
       "9        numOfSecurityFeatures   1.460216e+03\n",
       "10     numOfWaterfrontFeatures   4.405322e+04\n",
       "11         numOfWindowFeatures  -3.385370e+02\n",
       "12      numOfCommunityFeatures  -1.095621e+04\n",
       "13                 lotSizeSqFt   8.670248e+03\n",
       "14              livingAreaSqFt   8.546738e+04\n",
       "15         numOfPrimarySchools   4.891162e+04\n",
       "16      numOfElementarySchools   5.374667e+04\n",
       "17          numOfMiddleSchools   2.756181e+03\n",
       "18            numOfHighSchools  -2.899734e+04\n",
       "19           avgSchoolDistance  -2.294634e+03\n",
       "20             avgSchoolRating   1.080624e+05\n",
       "21               avgSchoolSize  -3.843387e+04\n",
       "22    MedianStudentsPerTeacher  -2.182924e+04\n",
       "23              numOfBathrooms   2.317532e+05\n",
       "24               numOfBedrooms  -4.060769e+04\n",
       "25                numOfStories  -4.828017e+04\n",
       "26              hasAssociation  -1.650971e+05\n",
       "27                  hasCooling  -1.835900e+05\n",
       "28                   hasGarage  -5.415503e+04\n",
       "29                  hasHeating  -1.059709e+05\n",
       "30                      hasSpa  -8.455202e+04\n",
       "31                     hasView  -2.650058e+04"
      ]
     },
     "execution_count": 605,
     "metadata": {},
     "output_type": "execute_result"
    }
   ],
   "source": [
    "coeff_df"
   ]
  },
  {
   "cell_type": "code",
   "execution_count": 606,
   "metadata": {},
   "outputs": [],
   "source": [
    "coeff_df.to_excel('features-coefficients.xlsx', index=False)"
   ]
  },
  {
   "cell_type": "code",
   "execution_count": 607,
   "metadata": {},
   "outputs": [],
   "source": [
    "#sample_data_df = df.toPandas()\n",
    "#sample_data_df = sample_data_df[featureCols]"
   ]
  },
  {
   "cell_type": "markdown",
   "metadata": {},
   "source": [
    "##### Saving the models for future use"
   ]
  },
  {
   "cell_type": "code",
   "execution_count": 608,
   "metadata": {},
   "outputs": [
    {
     "data": {
      "text/plain": [
       "0"
      ]
     },
     "execution_count": 608,
     "metadata": {},
     "output_type": "execute_result"
    }
   ],
   "source": [
    "os.system('rm -rf ./lrmodel/')"
   ]
  },
  {
   "cell_type": "code",
   "execution_count": 609,
   "metadata": {},
   "outputs": [],
   "source": [
    "linearModel.save('./lrmodel/lrm_model.model')"
   ]
  },
  {
   "cell_type": "code",
   "execution_count": 610,
   "metadata": {},
   "outputs": [],
   "source": [
    "numerical_vector_assembler.save('./lrmodel/numerical_vector_assembler')"
   ]
  },
  {
   "cell_type": "code",
   "execution_count": 611,
   "metadata": {},
   "outputs": [],
   "source": [
    "imputer.save('./lrmodel/imputer')"
   ]
  },
  {
   "cell_type": "code",
   "execution_count": 612,
   "metadata": {},
   "outputs": [],
   "source": [
    "scaler.save('./lrmodel/scaler')"
   ]
  },
  {
   "cell_type": "code",
   "execution_count": 613,
   "metadata": {},
   "outputs": [],
   "source": [
    "indexer.save('./lrmodel/indexer')"
   ]
  },
  {
   "cell_type": "code",
   "execution_count": 614,
   "metadata": {},
   "outputs": [],
   "source": [
    "one_hot_encoder.save('./lrmodel/one_hot_encoder')"
   ]
  },
  {
   "cell_type": "code",
   "execution_count": 615,
   "metadata": {},
   "outputs": [],
   "source": [
    "assembler.save('./lrmodel/assembler')"
   ]
  },
  {
   "cell_type": "code",
   "execution_count": null,
   "metadata": {},
   "outputs": [],
   "source": []
  }
 ],
 "metadata": {
  "kernelspec": {
   "display_name": "Python 3 (ipykernel)",
   "language": "python",
   "name": "python3"
  },
  "language_info": {
   "codemirror_mode": {
    "name": "ipython",
    "version": 3
   },
   "file_extension": ".py",
   "mimetype": "text/x-python",
   "name": "python",
   "nbconvert_exporter": "python",
   "pygments_lexer": "ipython3",
   "version": "3.10.12"
  }
 },
 "nbformat": 4,
 "nbformat_minor": 2
}
