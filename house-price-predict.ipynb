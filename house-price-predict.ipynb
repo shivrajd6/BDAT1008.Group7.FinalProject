{
 "cells": [
  {
   "cell_type": "code",
   "execution_count": 1,
   "metadata": {},
   "outputs": [],
   "source": [
    "from pyspark.sql import SparkSession\n",
    "from pyspark.sql.functions import monotonically_increasing_id, col\n",
    "from pyspark.ml.feature import Imputer\n",
    "from pyspark.sql.types import FloatType, StringType\n",
    "from pyspark.ml.feature import OneHotEncoder, OneHotEncoderModel\n",
    "from pyspark.ml.feature import StringIndexer, StringIndexerModel\n",
    "from pyspark.ml.feature import VectorAssembler\n",
    "from pyspark.ml.feature import StandardScaler, StandardScalerModel\n",
    "from pyspark.ml.feature import Normalizer\n",
    "from pyspark.ml.regression import LinearRegression, LinearRegressionModel\n",
    "from pyspark.sql.functions import mean\n",
    "from pyspark.mllib.evaluation import RegressionMetrics\n",
    "from pyspark.mllib.util import Saveable\n",
    "import os\n",
    "import pandas as pd\n",
    "import numpy as np\n",
    "from models.helper import Helper"
   ]
  },
  {
   "cell_type": "code",
   "execution_count": 2,
   "metadata": {},
   "outputs": [],
   "source": [
    "helper = Helper()"
   ]
  },
  {
   "cell_type": "code",
   "execution_count": 3,
   "metadata": {},
   "outputs": [
    {
     "name": "stderr",
     "output_type": "stream",
     "text": [
      "23/12/10 02:21:08 WARN Utils: Your hostname, shivalienware resolves to a loopback address: 127.0.1.1; using 172.28.191.26 instead (on interface eth0)\n",
      "23/12/10 02:21:08 WARN Utils: Set SPARK_LOCAL_IP if you need to bind to another address\n",
      "Setting default log level to \"WARN\".\n",
      "To adjust logging level use sc.setLogLevel(newLevel). For SparkR, use setLogLevel(newLevel).\n",
      "23/12/10 02:21:09 WARN NativeCodeLoader: Unable to load native-hadoop library for your platform... using builtin-java classes where applicable\n"
     ]
    },
    {
     "data": {
      "text/html": [
       "\n",
       "            <div>\n",
       "                <p><b>SparkSession - in-memory</b></p>\n",
       "                \n",
       "        <div>\n",
       "            <p><b>SparkContext</b></p>\n",
       "\n",
       "            <p><a href=\"http://172.28.191.26:4051\">Spark UI</a></p>\n",
       "\n",
       "            <dl>\n",
       "              <dt>Version</dt>\n",
       "                <dd><code>v3.5.0</code></dd>\n",
       "              <dt>Master</dt>\n",
       "                <dd><code>local</code></dd>\n",
       "              <dt>AppName</dt>\n",
       "                <dd><code>HousePricePredict</code></dd>\n",
       "            </dl>\n",
       "        </div>\n",
       "        \n",
       "            </div>\n",
       "        "
      ],
      "text/plain": [
       "<pyspark.sql.session.SparkSession at 0x7fbece8a2710>"
      ]
     },
     "execution_count": 3,
     "metadata": {},
     "output_type": "execute_result"
    }
   ],
   "source": [
    "spark = SparkSession.builder\\\n",
    "        .master(\"local\")\\\n",
    "        .appName(\"HousePricePredict\")\\\n",
    "        .config('spark.ui.port', '4051')\\\n",
    "        .getOrCreate()\n",
    "\n",
    "spark"
   ]
  },
  {
   "cell_type": "markdown",
   "metadata": {},
   "source": [
    "##### Reading user input data"
   ]
  },
  {
   "cell_type": "code",
   "execution_count": 4,
   "metadata": {},
   "outputs": [],
   "source": [
    "df = spark.read.format(\"csv\").load(\"./data/data-to-predict-house-prices.csv\", header=True, inferSchema=True)"
   ]
  },
  {
   "cell_type": "code",
   "execution_count": 5,
   "metadata": {},
   "outputs": [
    {
     "name": "stderr",
     "output_type": "stream",
     "text": [
      "23/12/10 02:21:14 WARN SparkStringUtils: Truncated the string representation of a plan since it was too large. This behavior can be adjusted by setting 'spark.sql.debug.maxToStringFields'.\n"
     ]
    },
    {
     "name": "stdout",
     "output_type": "stream",
     "text": [
      "+---------------+------------+-------------+-----------+--------------------------+---------------+--------------------+--------------------------+---------------------+-----------------------+-------------------+----------------------+-----------+--------------+-------------------+----------------------+------------------+----------------+-----------------+---------------+-------------+------------------------+--------------+-------------+------------+--------------+----------+---------+----------+------+-------+\n",
      "|propertyTaxRate|garageSpaces|parkingSpaces|numOfPhotos|numOfAccessibilityFeatures|numOfAppliances|numOfParkingFeatures|numOfPatioAndPorchFeatures|numOfSecurityFeatures|numOfWaterfrontFeatures|numOfWindowFeatures|numOfCommunityFeatures|lotSizeSqFt|livingAreaSqFt|numOfPrimarySchools|numOfElementarySchools|numOfMiddleSchools|numOfHighSchools|avgSchoolDistance|avgSchoolRating|avgSchoolSize|MedianStudentsPerTeacher|numOfBathrooms|numOfBedrooms|numOfStories|hasAssociation|hasCooling|hasGarage|hasHeating|hasSpa|hasView|\n",
      "+---------------+------------+-------------+-----------+--------------------------+---------------+--------------------+--------------------------+---------------------+-----------------------+-------------------+----------------------+-----------+--------------+-------------------+----------------------+------------------+----------------+-----------------+---------------+-------------+------------------------+--------------+-------------+------------+--------------+----------+---------+----------+------+-------+\n",
      "|           1.98|           2|            2|         29|                         0|              1|                   2|                         0|                    0|                      0|                  0|                     0|       6185|          1200|                  1|                     0|                 1|               1|              1.4|       2.666667|         1063|                      14|             2|            4|           1|           YES|       YES|       NO|       YES|    NO|     NO|\n",
      "+---------------+------------+-------------+-----------+--------------------------+---------------+--------------------+--------------------------+---------------------+-----------------------+-------------------+----------------------+-----------+--------------+-------------------+----------------------+------------------+----------------+-----------------+---------------+-------------+------------------------+--------------+-------------+------------+--------------+----------+---------+----------+------+-------+\n",
      "\n"
     ]
    }
   ],
   "source": [
    "df.show()"
   ]
  },
  {
   "cell_type": "code",
   "execution_count": 6,
   "metadata": {},
   "outputs": [
    {
     "data": {
      "text/plain": [
       "31"
      ]
     },
     "execution_count": 6,
     "metadata": {},
     "output_type": "execute_result"
    }
   ],
   "source": [
    "len(df.columns)"
   ]
  },
  {
   "cell_type": "code",
   "execution_count": 7,
   "metadata": {},
   "outputs": [
    {
     "data": {
      "text/plain": [
       "<bound method DataFrame.printSchema of DataFrame[propertyTaxRate: double, garageSpaces: int, parkingSpaces: int, numOfPhotos: int, numOfAccessibilityFeatures: int, numOfAppliances: int, numOfParkingFeatures: int, numOfPatioAndPorchFeatures: int, numOfSecurityFeatures: int, numOfWaterfrontFeatures: int, numOfWindowFeatures: int, numOfCommunityFeatures: int, lotSizeSqFt: int, livingAreaSqFt: int, numOfPrimarySchools: int, numOfElementarySchools: int, numOfMiddleSchools: int, numOfHighSchools: int, avgSchoolDistance: double, avgSchoolRating: double, avgSchoolSize: int, MedianStudentsPerTeacher: int, numOfBathrooms: int, numOfBedrooms: int, numOfStories: int, hasAssociation: string, hasCooling: string, hasGarage: string, hasHeating: string, hasSpa: string, hasView: string]>"
      ]
     },
     "execution_count": 7,
     "metadata": {},
     "output_type": "execute_result"
    }
   ],
   "source": [
    "df.printSchema"
   ]
  },
  {
   "cell_type": "markdown",
   "metadata": {},
   "source": [
    "#### Perform data transformations"
   ]
  },
  {
   "cell_type": "markdown",
   "metadata": {},
   "source": [
    "##### Converting numerical columns to float type"
   ]
  },
  {
   "cell_type": "code",
   "execution_count": 8,
   "metadata": {},
   "outputs": [],
   "source": [
    "for colname in helper.numerical_features_list:\n",
    "    df = df.withColumn(colname, col(colname).cast(FloatType()))"
   ]
  },
  {
   "cell_type": "code",
   "execution_count": 9,
   "metadata": {},
   "outputs": [],
   "source": [
    "for colname in helper.categorical_features_list:\n",
    "    df = df.withColumn(colname, col(colname).cast(StringType()))"
   ]
  },
  {
   "cell_type": "code",
   "execution_count": 10,
   "metadata": {},
   "outputs": [],
   "source": [
    "categorical_1hotindexfeatures_list = [feat+'_index' for feat in helper.categorical_features_list]"
   ]
  },
  {
   "cell_type": "code",
   "execution_count": 11,
   "metadata": {},
   "outputs": [],
   "source": [
    "categorical_1hotendcodingfeatures_list = [feat+'_1hot' for feat in helper.categorical_features_list]"
   ]
  },
  {
   "cell_type": "markdown",
   "metadata": {},
   "source": [
    "##### Creating the feature vector"
   ]
  },
  {
   "cell_type": "code",
   "execution_count": 12,
   "metadata": {},
   "outputs": [
    {
     "name": "stdout",
     "output_type": "stream",
     "text": [
      "+---------------+------------+-------------+-----------+--------------------------+---------------+--------------------+--------------------------+---------------------+-----------------------+-------------------+----------------------+-----------+--------------+-------------------+----------------------+------------------+----------------+-----------------+---------------+-------------+------------------------+--------------+-------------+------------+--------------+----------+---------+----------+------+-------+------------------------+\n",
      "|propertyTaxRate|garageSpaces|parkingSpaces|numOfPhotos|numOfAccessibilityFeatures|numOfAppliances|numOfParkingFeatures|numOfPatioAndPorchFeatures|numOfSecurityFeatures|numOfWaterfrontFeatures|numOfWindowFeatures|numOfCommunityFeatures|lotSizeSqFt|livingAreaSqFt|numOfPrimarySchools|numOfElementarySchools|numOfMiddleSchools|numOfHighSchools|avgSchoolDistance|avgSchoolRating|avgSchoolSize|MedianStudentsPerTeacher|numOfBathrooms|numOfBedrooms|numOfStories|hasAssociation|hasCooling|hasGarage|hasHeating|hasSpa|hasView|numerical_feature_vector|\n",
      "+---------------+------------+-------------+-----------+--------------------------+---------------+--------------------+--------------------------+---------------------+-----------------------+-------------------+----------------------+-----------+--------------+-------------------+----------------------+------------------+----------------+-----------------+---------------+-------------+------------------------+--------------+-------------+------------+--------------+----------+---------+----------+------+-------+------------------------+\n",
      "|           1.98|         2.0|          2.0|       29.0|                       0.0|            1.0|                 2.0|                       0.0|                  0.0|                    0.0|                0.0|                   0.0|     6185.0|        1200.0|                1.0|                   0.0|               1.0|             1.0|              1.4|       2.666667|       1063.0|                    14.0|           2.0|          4.0|         1.0|           YES|       YES|       NO|       YES|    NO|     NO|    [1.98000001907348...|\n",
      "+---------------+------------+-------------+-----------+--------------------------+---------------+--------------------+--------------------------+---------------------+-----------------------+-------------------+----------------------+-----------+--------------+-------------------+----------------------+------------------+----------------+-----------------+---------------+-------------+------------------------+--------------+-------------+------------+--------------+----------+---------+----------+------+-------+------------------------+\n",
      "\n"
     ]
    }
   ],
   "source": [
    "numerical_vector_assembler = VectorAssembler.load('./lrmodel/numerical_vector_assembler/')\n",
    "\n",
    "df = numerical_vector_assembler.transform(df)\n",
    "df.show()"
   ]
  },
  {
   "cell_type": "code",
   "execution_count": 13,
   "metadata": {},
   "outputs": [
    {
     "data": {
      "text/plain": [
       "[Row(numerical_feature_vector=DenseVector([1.98, 2.0, 2.0, 29.0, 0.0, 1.0, 2.0, 0.0, 0.0, 0.0, 0.0, 0.0, 6185.0, 1200.0, 1.0, 0.0, 1.0, 1.0, 1.4, 2.6667, 1063.0, 14.0, 2.0, 4.0, 1.0]))]"
      ]
     },
     "execution_count": 13,
     "metadata": {},
     "output_type": "execute_result"
    }
   ],
   "source": [
    "df.select('numerical_feature_vector').take(1)"
   ]
  },
  {
   "cell_type": "markdown",
   "metadata": {},
   "source": [
    "##### Normalizing the numerical feature values"
   ]
  },
  {
   "cell_type": "code",
   "execution_count": 14,
   "metadata": {},
   "outputs": [
    {
     "name": "stdout",
     "output_type": "stream",
     "text": [
      "+---------------+------------+-------------+-----------+--------------------------+---------------+--------------------+--------------------------+---------------------+-----------------------+-------------------+----------------------+-----------+--------------+-------------------+----------------------+------------------+----------------+-----------------+---------------+-------------+------------------------+--------------+-------------+------------+--------------+----------+---------+----------+------+-------+------------------------+-------------------------------+\n",
      "|propertyTaxRate|garageSpaces|parkingSpaces|numOfPhotos|numOfAccessibilityFeatures|numOfAppliances|numOfParkingFeatures|numOfPatioAndPorchFeatures|numOfSecurityFeatures|numOfWaterfrontFeatures|numOfWindowFeatures|numOfCommunityFeatures|lotSizeSqFt|livingAreaSqFt|numOfPrimarySchools|numOfElementarySchools|numOfMiddleSchools|numOfHighSchools|avgSchoolDistance|avgSchoolRating|avgSchoolSize|MedianStudentsPerTeacher|numOfBathrooms|numOfBedrooms|numOfStories|hasAssociation|hasCooling|hasGarage|hasHeating|hasSpa|hasView|numerical_feature_vector|scaled_numerical_feature_vector|\n",
      "+---------------+------------+-------------+-----------+--------------------------+---------------+--------------------+--------------------------+---------------------+-----------------------+-------------------+----------------------+-----------+--------------+-------------------+----------------------+------------------+----------------+-----------------+---------------+-------------+------------------------+--------------+-------------+------------+--------------+----------+---------+----------+------+-------+------------------------+-------------------------------+\n",
      "|           1.98|         2.0|          2.0|       29.0|                       0.0|            1.0|                 2.0|                       0.0|                  0.0|                    0.0|                0.0|                   0.0|     6185.0|        1200.0|                1.0|                   0.0|               1.0|             1.0|              1.4|       2.666667|       1063.0|                    14.0|           2.0|          4.0|         1.0|           YES|       YES|       NO|       YES|    NO|     NO|    [1.98000001907348...|           [-0.2591684891066...|\n",
      "+---------------+------------+-------------+-----------+--------------------------+---------------+--------------------+--------------------------+---------------------+-----------------------+-------------------+----------------------+-----------+--------------+-------------------+----------------------+------------------+----------------+-----------------+---------------+-------------+------------------------+--------------+-------------+------------+--------------+----------+---------+----------+------+-------+------------------------+-------------------------------+\n",
      "\n"
     ]
    }
   ],
   "source": [
    "scaler = StandardScalerModel.load('./lrmodel/scaler/')\n",
    "\n",
    "df = scaler.transform(df)\n",
    "df.show(3)"
   ]
  },
  {
   "cell_type": "code",
   "execution_count": 15,
   "metadata": {},
   "outputs": [
    {
     "name": "stdout",
     "output_type": "stream",
     "text": [
      "+-----------------------------------------------------------------------------------------------------------------------------------------------------------------------------------------------------------------------------------------------------------------------------------------------------------------------------------------------------------------------------------------------------------------------------------------------------------------------------------------------------------------------+\n",
      "|scaled_numerical_feature_vector                                                                                                                                                                                                                                                                                                                                                                                                                                                                                        |\n",
      "+-----------------------------------------------------------------------------------------------------------------------------------------------------------------------------------------------------------------------------------------------------------------------------------------------------------------------------------------------------------------------------------------------------------------------------------------------------------------------------------------------------------------------+\n",
      "|[-0.25916848910660223,0.5295084362742924,0.5337422436688269,-0.21522313129002177,-0.0695989165171548,-1.33651184308981,0.37017702331397356,-0.6818647571154286,-0.5658452944187445,-0.049210100595520966,-0.4183979664660047,-0.09677832712837219,-0.01203389950783829,-0.616138909612875,0.25021487665490616,-0.20659810877379958,-0.13515403756605476,0.06921126838913619,-0.39915637769444573,-1.644347742331414,-0.5337298358593215,-0.48277596930084393,-0.6543803873651293,0.663580549779779,-0.8777333040511734]|\n",
      "+-----------------------------------------------------------------------------------------------------------------------------------------------------------------------------------------------------------------------------------------------------------------------------------------------------------------------------------------------------------------------------------------------------------------------------------------------------------------------------------------------------------------------+\n",
      "\n"
     ]
    }
   ],
   "source": [
    "df.select('scaled_numerical_feature_vector').show(truncate=False)"
   ]
  },
  {
   "cell_type": "markdown",
   "metadata": {},
   "source": [
    "##### Converting string values to unique indices"
   ]
  },
  {
   "cell_type": "code",
   "execution_count": 16,
   "metadata": {},
   "outputs": [],
   "source": [
    "indexer = StringIndexer(inputCols=helper.categorical_features_list,\n",
    "                        outputCols=categorical_1hotendcodingfeatures_list)\n",
    "\n",
    "indexer = indexer.fit(df)\n",
    "df = indexer.transform(df)"
   ]
  },
  {
   "cell_type": "code",
   "execution_count": 17,
   "metadata": {},
   "outputs": [
    {
     "name": "stdout",
     "output_type": "stream",
     "text": [
      "+---------------+------------+-------------+-----------+--------------------------+---------------+--------------------+--------------------------+---------------------+-----------------------+-------------------+----------------------+-----------+--------------+-------------------+----------------------+------------------+----------------+-----------------+---------------+-------------+------------------------+--------------+-------------+------------+--------------+----------+---------+----------+------+-------+------------------------+-------------------------------+-------------------+---------------+--------------+---------------+-----------+------------+\n",
      "|propertyTaxRate|garageSpaces|parkingSpaces|numOfPhotos|numOfAccessibilityFeatures|numOfAppliances|numOfParkingFeatures|numOfPatioAndPorchFeatures|numOfSecurityFeatures|numOfWaterfrontFeatures|numOfWindowFeatures|numOfCommunityFeatures|lotSizeSqFt|livingAreaSqFt|numOfPrimarySchools|numOfElementarySchools|numOfMiddleSchools|numOfHighSchools|avgSchoolDistance|avgSchoolRating|avgSchoolSize|MedianStudentsPerTeacher|numOfBathrooms|numOfBedrooms|numOfStories|hasAssociation|hasCooling|hasGarage|hasHeating|hasSpa|hasView|numerical_feature_vector|scaled_numerical_feature_vector|hasAssociation_1hot|hasCooling_1hot|hasGarage_1hot|hasHeating_1hot|hasSpa_1hot|hasView_1hot|\n",
      "+---------------+------------+-------------+-----------+--------------------------+---------------+--------------------+--------------------------+---------------------+-----------------------+-------------------+----------------------+-----------+--------------+-------------------+----------------------+------------------+----------------+-----------------+---------------+-------------+------------------------+--------------+-------------+------------+--------------+----------+---------+----------+------+-------+------------------------+-------------------------------+-------------------+---------------+--------------+---------------+-----------+------------+\n",
      "|           1.98|         2.0|          2.0|       29.0|                       0.0|            1.0|                 2.0|                       0.0|                  0.0|                    0.0|                0.0|                   0.0|     6185.0|        1200.0|                1.0|                   0.0|               1.0|             1.0|              1.4|       2.666667|       1063.0|                    14.0|           2.0|          4.0|         1.0|           YES|       YES|       NO|       YES|    NO|     NO|    [1.98000001907348...|           [-0.2591684891066...|                0.0|            0.0|           0.0|            0.0|        0.0|         0.0|\n",
      "+---------------+------------+-------------+-----------+--------------------------+---------------+--------------------+--------------------------+---------------------+-----------------------+-------------------+----------------------+-----------+--------------+-------------------+----------------------+------------------+----------------+-----------------+---------------+-------------+------------------------+--------------+-------------+------------+--------------+----------+---------+----------+------+-------+------------------------+-------------------------------+-------------------+---------------+--------------+---------------+-----------+------------+\n",
      "\n"
     ]
    }
   ],
   "source": [
    "df.show(3)"
   ]
  },
  {
   "cell_type": "markdown",
   "metadata": {},
   "source": [
    "##### Creating the final feature vector"
   ]
  },
  {
   "cell_type": "code",
   "execution_count": 18,
   "metadata": {},
   "outputs": [],
   "source": [
    "assembler = VectorAssembler.load('./lrmodel/assembler/')\n",
    "\n",
    "df = assembler.transform(df)"
   ]
  },
  {
   "cell_type": "code",
   "execution_count": 19,
   "metadata": {},
   "outputs": [
    {
     "name": "stdout",
     "output_type": "stream",
     "text": [
      "+---------------+------------+-------------+-----------+--------------------------+---------------+--------------------+--------------------------+---------------------+-----------------------+-------------------+----------------------+-----------+--------------+-------------------+----------------------+------------------+----------------+-----------------+---------------+-------------+------------------------+--------------+-------------+------------+--------------+----------+---------+----------+------+-------+------------------------+-------------------------------+-------------------+---------------+--------------+---------------+-----------+------------+--------------------+\n",
      "|propertyTaxRate|garageSpaces|parkingSpaces|numOfPhotos|numOfAccessibilityFeatures|numOfAppliances|numOfParkingFeatures|numOfPatioAndPorchFeatures|numOfSecurityFeatures|numOfWaterfrontFeatures|numOfWindowFeatures|numOfCommunityFeatures|lotSizeSqFt|livingAreaSqFt|numOfPrimarySchools|numOfElementarySchools|numOfMiddleSchools|numOfHighSchools|avgSchoolDistance|avgSchoolRating|avgSchoolSize|MedianStudentsPerTeacher|numOfBathrooms|numOfBedrooms|numOfStories|hasAssociation|hasCooling|hasGarage|hasHeating|hasSpa|hasView|numerical_feature_vector|scaled_numerical_feature_vector|hasAssociation_1hot|hasCooling_1hot|hasGarage_1hot|hasHeating_1hot|hasSpa_1hot|hasView_1hot|final_feature_vector|\n",
      "+---------------+------------+-------------+-----------+--------------------------+---------------+--------------------+--------------------------+---------------------+-----------------------+-------------------+----------------------+-----------+--------------+-------------------+----------------------+------------------+----------------+-----------------+---------------+-------------+------------------------+--------------+-------------+------------+--------------+----------+---------+----------+------+-------+------------------------+-------------------------------+-------------------+---------------+--------------+---------------+-----------+------------+--------------------+\n",
      "|           1.98|         2.0|          2.0|       29.0|                       0.0|            1.0|                 2.0|                       0.0|                  0.0|                    0.0|                0.0|                   0.0|     6185.0|        1200.0|                1.0|                   0.0|               1.0|             1.0|              1.4|       2.666667|       1063.0|                    14.0|           2.0|          4.0|         1.0|           YES|       YES|       NO|       YES|    NO|     NO|    [1.98000001907348...|           [-0.2591684891066...|                0.0|            0.0|           0.0|            0.0|        0.0|         0.0|[-0.2591684891066...|\n",
      "+---------------+------------+-------------+-----------+--------------------------+---------------+--------------------+--------------------------+---------------------+-----------------------+-------------------+----------------------+-----------+--------------+-------------------+----------------------+------------------+----------------+-----------------+---------------+-------------+------------------------+--------------+-------------+------------+--------------+----------+---------+----------+------+-------+------------------------+-------------------------------+-------------------+---------------+--------------+---------------+-----------+------------+--------------------+\n",
      "\n"
     ]
    }
   ],
   "source": [
    "df.show(2)"
   ]
  },
  {
   "cell_type": "code",
   "execution_count": 20,
   "metadata": {},
   "outputs": [
    {
     "data": {
      "text/plain": [
       "[Row(final_feature_vector=DenseVector([-0.2592, 0.5295, 0.5337, -0.2152, -0.0696, -1.3365, 0.3702, -0.6819, -0.5658, -0.0492, -0.4184, -0.0968, -0.012, -0.6161, 0.2502, -0.2066, -0.1352, 0.0692, -0.3992, -1.6443, -0.5337, -0.4828, -0.6544, 0.6636, -0.8777, 0.0, 0.0, 0.0, 0.0, 0.0, 0.0]))]"
      ]
     },
     "execution_count": 20,
     "metadata": {},
     "output_type": "execute_result"
    }
   ],
   "source": [
    "df.select('final_feature_vector').take(1)"
   ]
  },
  {
   "cell_type": "markdown",
   "metadata": {},
   "source": [
    "##### Loading the saved LR model"
   ]
  },
  {
   "cell_type": "code",
   "execution_count": 21,
   "metadata": {},
   "outputs": [],
   "source": [
    "linearModel = LinearRegressionModel.load('./lrmodel/lrm_model.model')"
   ]
  },
  {
   "cell_type": "code",
   "execution_count": 22,
   "metadata": {},
   "outputs": [
    {
     "data": {
      "text/plain": [
       "DenseVector([-51606.0546, 112556.4379, -110466.5976, 18765.2947, 4594.7902, -1872.7643, 33056.3579, 9428.0167, 1460.216, 44053.2231, -338.537, -10956.2114, 8670.2485, 85467.3761, 48911.6209, 53746.6737, 2756.1814, -28997.336, -2294.6339, 108062.3781, -38433.8679, -21829.2417, 231753.2216, -40607.6898, -48280.1734, -165097.1307, -183589.9816, -54155.0252, -105970.8515, -84552.0183, -26500.5804])"
      ]
     },
     "execution_count": 22,
     "metadata": {},
     "output_type": "execute_result"
    }
   ],
   "source": [
    "linearModel.coefficients"
   ]
  },
  {
   "cell_type": "code",
   "execution_count": 23,
   "metadata": {},
   "outputs": [],
   "source": [
    "prediction = linearModel.transform(df)"
   ]
  },
  {
   "cell_type": "code",
   "execution_count": 24,
   "metadata": {},
   "outputs": [
    {
     "name": "stdout",
     "output_type": "stream",
     "text": [
      "+-----------------+\n",
      "|       prediction|\n",
      "+-----------------+\n",
      "|688239.2758163748|\n",
      "+-----------------+\n",
      "\n"
     ]
    }
   ],
   "source": [
    "prediction.select('prediction').show()"
   ]
  },
  {
   "cell_type": "code",
   "execution_count": null,
   "metadata": {},
   "outputs": [],
   "source": []
  }
 ],
 "metadata": {
  "kernelspec": {
   "display_name": "Python 3 (ipykernel)",
   "language": "python",
   "name": "python3"
  },
  "language_info": {
   "codemirror_mode": {
    "name": "ipython",
    "version": 3
   },
   "file_extension": ".py",
   "mimetype": "text/x-python",
   "name": "python",
   "nbconvert_exporter": "python",
   "pygments_lexer": "ipython3",
   "version": "3.10.12"
  }
 },
 "nbformat": 4,
 "nbformat_minor": 2
}
